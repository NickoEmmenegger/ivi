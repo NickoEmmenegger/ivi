{
 "cells": [
  {
   "attachments": {},
   "cell_type": "markdown",
   "id": "e0110bde",
   "metadata": {},
   "source": [
    "# LE1 Performance"
   ]
  },
  {
   "cell_type": "code",
   "execution_count": 1,
   "id": "66d217f9",
   "metadata": {},
   "outputs": [],
   "source": [
    "#from numba import jit, cuda\n",
    "#import numpy as np\n",
    "## to measure exec time\n",
    "#from timeit import default_timer as timer\n",
    "#\n",
    "## normal function to run on cpu\n",
    "#def func(a):\t\t\t\t\t\t\t\t\n",
    "#\tfor i in range(10000000):\n",
    "#\t\ta[i]+= 1\t\n",
    "#\n",
    "## function optimized to run on gpu\n",
    "#@jit(target_backend='cuda')\t\t\t\t\t\t\n",
    "#def func2(a):\n",
    "#\tfor i in range(10000000):\n",
    "#\t\ta[i]+= 1\n",
    "#if __name__==\"__main__\":\n",
    "#\tn = 10000000\t\t\t\t\t\t\t\n",
    "#\ta = np.ones(n, dtype = np.float64)\n",
    "#\t\n",
    "#\tstart = timer()\n",
    "#\tfunc(a)\n",
    "#\tprint(\"without GPU:\", timer()-start)\t\n",
    "#\t\n",
    "#\tstart = timer()\n",
    "#\tfunc2(a)\n",
    "#\tprint(\"with GPU:\", timer()-start)"
   ]
  },
  {
   "cell_type": "code",
   "execution_count": 2,
   "id": "60f81c7d",
   "metadata": {},
   "outputs": [],
   "source": [
    "##Output:\n",
    "#without GPU: 8.985259440999926\n",
    "#with GPU: 1.4247172560001218"
   ]
  },
  {
   "attachments": {},
   "cell_type": "markdown",
   "id": "d980d3ea",
   "metadata": {},
   "source": [
    "Anhand des Outputs erkennt man, dass es mit GPU bis zu 6-Mal schneller ist."
   ]
  },
  {
   "attachments": {},
   "cell_type": "markdown",
   "id": "1880c708",
   "metadata": {},
   "source": [
    "# Dashboard für LE2 - LE4"
   ]
  },
  {
   "cell_type": "markdown",
   "id": "6bff3f64",
   "metadata": {},
   "source": [
    "# Import libraries"
   ]
  },
  {
   "cell_type": "code",
   "execution_count": 3,
   "id": "3330de22",
   "metadata": {},
   "outputs": [
    {
     "data": {
      "application/javascript": "(function(root) {\n  function now() {\n    return new Date();\n  }\n\n  var force = true;\n\n  if (typeof root._bokeh_onload_callbacks === \"undefined\" || force === true) {\n    root._bokeh_onload_callbacks = [];\n    root._bokeh_is_loading = undefined;\n  }\n\n  if (typeof (root._bokeh_timeout) === \"undefined\" || force === true) {\n    root._bokeh_timeout = Date.now() + 5000;\n    root._bokeh_failed_load = false;\n  }\n\n  function run_callbacks() {\n    try {\n      root._bokeh_onload_callbacks.forEach(function(callback) {\n        if (callback != null)\n          callback();\n      });\n    } finally {\n      delete root._bokeh_onload_callbacks\n    }\n    console.debug(\"Bokeh: all callbacks have finished\");\n  }\n\n  function load_libs(css_urls, js_urls, js_modules, callback) {\n    if (css_urls == null) css_urls = [];\n    if (js_urls == null) js_urls = [];\n    if (js_modules == null) js_modules = [];\n\n    root._bokeh_onload_callbacks.push(callback);\n    if (root._bokeh_is_loading > 0) {\n      console.debug(\"Bokeh: BokehJS is being loaded, scheduling callback at\", now());\n      return null;\n    }\n    if (js_urls.length === 0 && js_modules.length === 0) {\n      run_callbacks();\n      return null;\n    }\n    console.debug(\"Bokeh: BokehJS not loaded, scheduling load and callback at\", now());\n\n    function on_load() {\n      root._bokeh_is_loading--;\n      if (root._bokeh_is_loading === 0) {\n        console.debug(\"Bokeh: all BokehJS libraries/stylesheets loaded\");\n        run_callbacks()\n      }\n    }\n\n    function on_error() {\n      console.error(\"failed to load \" + url);\n    }\n\n    for (var i = 0; i < css_urls.length; i++) {\n      var url = css_urls[i];\n      const element = document.createElement(\"link\");\n      element.onload = on_load;\n      element.onerror = on_error;\n      element.rel = \"stylesheet\";\n      element.type = \"text/css\";\n      element.href = url;\n      console.debug(\"Bokeh: injecting link tag for BokehJS stylesheet: \", url);\n      document.body.appendChild(element);\n    }\n\n    var skip = [];\n    if (window.requirejs) {\n      window.requirejs.config({'packages': {}, 'paths': {'tabulator': 'https://unpkg.com/tabulator-tables@4.9.3/dist/js/tabulator', 'moment': 'https://cdn.jsdelivr.net/npm/luxon/build/global/luxon.min', 'gridstack': 'https://cdn.jsdelivr.net/npm/gridstack@4.2.5/dist/gridstack-h5', 'notyf': 'https://cdn.jsdelivr.net/npm/notyf@3/notyf.min'}, 'shim': {'gridstack': {'exports': 'GridStack'}}});\n      require([\"tabulator\"], function(Tabulator) {\n\twindow.Tabulator = Tabulator\n\ton_load()\n      })\n      require([\"moment\"], function(moment) {\n\twindow.moment = moment\n\ton_load()\n      })\n      require([\"gridstack\"], function(GridStack) {\n\twindow.GridStack = GridStack\n\ton_load()\n      })\n      require([\"notyf\"], function() {\n\ton_load()\n      })\n      root._bokeh_is_loading = css_urls.length + 4;\n    } else {\n      root._bokeh_is_loading = css_urls.length + js_urls.length + js_modules.length;\n    }    if (((window['Tabulator'] !== undefined) && (!(window['Tabulator'] instanceof HTMLElement))) || window.requirejs) {\n      var urls = ['https://unpkg.com/tabulator-tables@4.9.3/dist/js/tabulator.js'];\n      for (var i = 0; i < urls.length; i++) {\n        skip.push(urls[i])\n      }\n    }    if (((window['moment'] !== undefined) && (!(window['moment'] instanceof HTMLElement))) || window.requirejs) {\n      var urls = ['https://cdn.jsdelivr.net/npm/luxon/build/global/luxon.min.js'];\n      for (var i = 0; i < urls.length; i++) {\n        skip.push(urls[i])\n      }\n    }    if (((window['GridStack'] !== undefined) && (!(window['GridStack'] instanceof HTMLElement))) || window.requirejs) {\n      var urls = ['https://cdn.jsdelivr.net/npm/gridstack@4.2.5/dist/gridstack-h5.js'];\n      for (var i = 0; i < urls.length; i++) {\n        skip.push(urls[i])\n      }\n    }    if (((window['Notyf'] !== undefined) && (!(window['Notyf'] instanceof HTMLElement))) || window.requirejs) {\n      var urls = ['https://cdn.jsdelivr.net/npm/notyf@3/notyf.min.js'];\n      for (var i = 0; i < urls.length; i++) {\n        skip.push(urls[i])\n      }\n    }    for (var i = 0; i < js_urls.length; i++) {\n      var url = js_urls[i];\n      if (skip.indexOf(url) >= 0) {\n\tif (!window.requirejs) {\n\t  on_load();\n\t}\n\tcontinue;\n      }\n      var element = document.createElement('script');\n      element.onload = on_load;\n      element.onerror = on_error;\n      element.async = false;\n      element.src = url;\n      console.debug(\"Bokeh: injecting script tag for BokehJS library: \", url);\n      document.head.appendChild(element);\n    }\n    for (var i = 0; i < js_modules.length; i++) {\n      var url = js_modules[i];\n      if (skip.indexOf(url) >= 0) {\n\tif (!window.requirejs) {\n\t  on_load();\n\t}\n\tcontinue;\n      }\n      var element = document.createElement('script');\n      element.onload = on_load;\n      element.onerror = on_error;\n      element.async = false;\n      element.src = url;\n      element.type = \"module\";\n      console.debug(\"Bokeh: injecting script tag for BokehJS library: \", url);\n      document.head.appendChild(element);\n    }\n    if (!js_urls.length && !js_modules.length) {\n      on_load()\n    }\n  };\n\n  function inject_raw_css(css) {\n    const element = document.createElement(\"style\");\n    element.appendChild(document.createTextNode(css));\n    document.body.appendChild(element);\n  }\n\n  var js_urls = [\"https://unpkg.com/tabulator-tables@4.9.3/dist/js/tabulator.js\", \"https://cdn.jsdelivr.net/npm/luxon/build/global/luxon.min.js\", \"https://cdn.bokeh.org/bokeh/release/bokeh-2.4.3.min.js\", \"https://cdn.bokeh.org/bokeh/release/bokeh-gl-2.4.3.min.js\", \"https://cdn.bokeh.org/bokeh/release/bokeh-widgets-2.4.3.min.js\", \"https://cdn.bokeh.org/bokeh/release/bokeh-tables-2.4.3.min.js\", \"https://cdn.bokeh.org/bokeh/release/bokeh-mathjax-2.4.3.min.js\", \"https://cdn.jsdelivr.net/npm/notyf@3/notyf.min.js\", \"https://unpkg.com/@holoviz/panel@0.13.1/dist/panel.min.js\"];\n  var js_modules = [];\n  var css_urls = [\"https://unpkg.com/tabulator-tables@4.9.3/dist/css/tabulator_simple.min.css\", \"https://cdn.jsdelivr.net/npm/notyf@3/notyf.min.css\", \"https://cdnjs.cloudflare.com/ajax/libs/font-awesome/5.15.1/css/all.min.css\", \"https://unpkg.com/@holoviz/panel@0.13.1/dist/css/debugger.css\", \"https://unpkg.com/@holoviz/panel@0.13.1/dist/css/alerts.css\", \"https://unpkg.com/@holoviz/panel@0.13.1/dist/css/card.css\", \"https://unpkg.com/@holoviz/panel@0.13.1/dist/css/widgets.css\", \"https://unpkg.com/@holoviz/panel@0.13.1/dist/css/markdown.css\", \"https://unpkg.com/@holoviz/panel@0.13.1/dist/css/json.css\", \"https://unpkg.com/@holoviz/panel@0.13.1/dist/css/loading.css\", \"https://unpkg.com/@holoviz/panel@0.13.1/dist/css/dataframe.css\"];\n  var inline_js = [    function(Bokeh) {\n      inject_raw_css(\"\\n    .bk.pn-loading.arcs:before {\\n      background-image: url(\\\"data:image/svg+xml;base64,PHN2ZyB4bWxucz0iaHR0cDovL3d3dy53My5vcmcvMjAwMC9zdmciIHhtbG5zOnhsaW5rPSJodHRwOi8vd3d3LnczLm9yZy8xOTk5L3hsaW5rIiBzdHlsZT0ibWFyZ2luOiBhdXRvOyBiYWNrZ3JvdW5kOiBub25lOyBkaXNwbGF5OiBibG9jazsgc2hhcGUtcmVuZGVyaW5nOiBhdXRvOyIgdmlld0JveD0iMCAwIDEwMCAxMDAiIHByZXNlcnZlQXNwZWN0UmF0aW89InhNaWRZTWlkIj4gIDxjaXJjbGUgY3g9IjUwIiBjeT0iNTAiIHI9IjMyIiBzdHJva2Utd2lkdGg9IjgiIHN0cm9rZT0iI2MzYzNjMyIgc3Ryb2tlLWRhc2hhcnJheT0iNTAuMjY1NDgyNDU3NDM2NjkgNTAuMjY1NDgyNDU3NDM2NjkiIGZpbGw9Im5vbmUiIHN0cm9rZS1saW5lY2FwPSJyb3VuZCI+ICAgIDxhbmltYXRlVHJhbnNmb3JtIGF0dHJpYnV0ZU5hbWU9InRyYW5zZm9ybSIgdHlwZT0icm90YXRlIiByZXBlYXRDb3VudD0iaW5kZWZpbml0ZSIgZHVyPSIxcyIga2V5VGltZXM9IjA7MSIgdmFsdWVzPSIwIDUwIDUwOzM2MCA1MCA1MCI+PC9hbmltYXRlVHJhbnNmb3JtPiAgPC9jaXJjbGU+PC9zdmc+\\\");\\n      background-size: auto calc(min(50%, 400px));\\n    }\\n    \");\n    },    function(Bokeh) {\n      Bokeh.set_log_level(\"info\");\n    },\nfunction(Bokeh) {} // ensure no trailing comma for IE\n  ];\n\n  function run_inline_js() {\n    if ((root.Bokeh !== undefined) || (force === true)) {\n      for (var i = 0; i < inline_js.length; i++) {\n        inline_js[i].call(root, root.Bokeh);\n      }} else if (Date.now() < root._bokeh_timeout) {\n      setTimeout(run_inline_js, 100);\n    } else if (!root._bokeh_failed_load) {\n      console.log(\"Bokeh: BokehJS failed to load within specified timeout.\");\n      root._bokeh_failed_load = true;\n    }\n  }\n\n  if (root._bokeh_is_loading === 0) {\n    console.debug(\"Bokeh: BokehJS loaded, going straight to plotting\");\n    run_inline_js();\n  } else {\n    load_libs(css_urls, js_urls, js_modules, function() {\n      console.debug(\"Bokeh: BokehJS plotting callback run at\", now());\n      run_inline_js();\n    });\n  }\n}(window));",
      "application/vnd.holoviews_load.v0+json": ""
     },
     "metadata": {},
     "output_type": "display_data"
    },
    {
     "data": {
      "application/javascript": "\nif ((window.PyViz === undefined) || (window.PyViz instanceof HTMLElement)) {\n  window.PyViz = {comms: {}, comm_status:{}, kernels:{}, receivers: {}, plot_index: []}\n}\n\n\n    function JupyterCommManager() {\n    }\n\n    JupyterCommManager.prototype.register_target = function(plot_id, comm_id, msg_handler) {\n      if (window.comm_manager || ((window.Jupyter !== undefined) && (Jupyter.notebook.kernel != null))) {\n        var comm_manager = window.comm_manager || Jupyter.notebook.kernel.comm_manager;\n        comm_manager.register_target(comm_id, function(comm) {\n          comm.on_msg(msg_handler);\n        });\n      } else if ((plot_id in window.PyViz.kernels) && (window.PyViz.kernels[plot_id])) {\n        window.PyViz.kernels[plot_id].registerCommTarget(comm_id, function(comm) {\n          comm.onMsg = msg_handler;\n        });\n      } else if (typeof google != 'undefined' && google.colab.kernel != null) {\n        google.colab.kernel.comms.registerTarget(comm_id, (comm) => {\n          var messages = comm.messages[Symbol.asyncIterator]();\n          function processIteratorResult(result) {\n            var message = result.value;\n            console.log(message)\n            var content = {data: message.data, comm_id};\n            var buffers = []\n            for (var buffer of message.buffers || []) {\n              buffers.push(new DataView(buffer))\n            }\n            var metadata = message.metadata || {};\n            var msg = {content, buffers, metadata}\n            msg_handler(msg);\n            return messages.next().then(processIteratorResult);\n          }\n          return messages.next().then(processIteratorResult);\n        })\n      }\n    }\n\n    JupyterCommManager.prototype.get_client_comm = function(plot_id, comm_id, msg_handler) {\n      if (comm_id in window.PyViz.comms) {\n        return window.PyViz.comms[comm_id];\n      } else if (window.comm_manager || ((window.Jupyter !== undefined) && (Jupyter.notebook.kernel != null))) {\n        var comm_manager = window.comm_manager || Jupyter.notebook.kernel.comm_manager;\n        var comm = comm_manager.new_comm(comm_id, {}, {}, {}, comm_id);\n        if (msg_handler) {\n          comm.on_msg(msg_handler);\n        }\n      } else if ((plot_id in window.PyViz.kernels) && (window.PyViz.kernels[plot_id])) {\n        var comm = window.PyViz.kernels[plot_id].connectToComm(comm_id);\n        comm.open();\n        if (msg_handler) {\n          comm.onMsg = msg_handler;\n        }\n      } else if (typeof google != 'undefined' && google.colab.kernel != null) {\n        var comm_promise = google.colab.kernel.comms.open(comm_id)\n        comm_promise.then((comm) => {\n          window.PyViz.comms[comm_id] = comm;\n          if (msg_handler) {\n            var messages = comm.messages[Symbol.asyncIterator]();\n            function processIteratorResult(result) {\n              var message = result.value;\n              var content = {data: message.data};\n              var metadata = message.metadata || {comm_id};\n              var msg = {content, metadata}\n              msg_handler(msg);\n              return messages.next().then(processIteratorResult);\n            }\n            return messages.next().then(processIteratorResult);\n          }\n        }) \n        var sendClosure = (data, metadata, buffers, disposeOnDone) => {\n          return comm_promise.then((comm) => {\n            comm.send(data, metadata, buffers, disposeOnDone);\n          });\n        };\n        var comm = {\n          send: sendClosure\n        };\n      }\n      window.PyViz.comms[comm_id] = comm;\n      return comm;\n    }\n    window.PyViz.comm_manager = new JupyterCommManager();\n    \n\n\nvar JS_MIME_TYPE = 'application/javascript';\nvar HTML_MIME_TYPE = 'text/html';\nvar EXEC_MIME_TYPE = 'application/vnd.holoviews_exec.v0+json';\nvar CLASS_NAME = 'output';\n\n/**\n * Render data to the DOM node\n */\nfunction render(props, node) {\n  var div = document.createElement(\"div\");\n  var script = document.createElement(\"script\");\n  node.appendChild(div);\n  node.appendChild(script);\n}\n\n/**\n * Handle when a new output is added\n */\nfunction handle_add_output(event, handle) {\n  var output_area = handle.output_area;\n  var output = handle.output;\n  if ((output.data == undefined) || (!output.data.hasOwnProperty(EXEC_MIME_TYPE))) {\n    return\n  }\n  var id = output.metadata[EXEC_MIME_TYPE][\"id\"];\n  var toinsert = output_area.element.find(\".\" + CLASS_NAME.split(' ')[0]);\n  if (id !== undefined) {\n    var nchildren = toinsert.length;\n    var html_node = toinsert[nchildren-1].children[0];\n    html_node.innerHTML = output.data[HTML_MIME_TYPE];\n    var scripts = [];\n    var nodelist = html_node.querySelectorAll(\"script\");\n    for (var i in nodelist) {\n      if (nodelist.hasOwnProperty(i)) {\n        scripts.push(nodelist[i])\n      }\n    }\n\n    scripts.forEach( function (oldScript) {\n      var newScript = document.createElement(\"script\");\n      var attrs = [];\n      var nodemap = oldScript.attributes;\n      for (var j in nodemap) {\n        if (nodemap.hasOwnProperty(j)) {\n          attrs.push(nodemap[j])\n        }\n      }\n      attrs.forEach(function(attr) { newScript.setAttribute(attr.name, attr.value) });\n      newScript.appendChild(document.createTextNode(oldScript.innerHTML));\n      oldScript.parentNode.replaceChild(newScript, oldScript);\n    });\n    if (JS_MIME_TYPE in output.data) {\n      toinsert[nchildren-1].children[1].textContent = output.data[JS_MIME_TYPE];\n    }\n    output_area._hv_plot_id = id;\n    if ((window.Bokeh !== undefined) && (id in Bokeh.index)) {\n      window.PyViz.plot_index[id] = Bokeh.index[id];\n    } else {\n      window.PyViz.plot_index[id] = null;\n    }\n  } else if (output.metadata[EXEC_MIME_TYPE][\"server_id\"] !== undefined) {\n    var bk_div = document.createElement(\"div\");\n    bk_div.innerHTML = output.data[HTML_MIME_TYPE];\n    var script_attrs = bk_div.children[0].attributes;\n    for (var i = 0; i < script_attrs.length; i++) {\n      toinsert[toinsert.length - 1].childNodes[1].setAttribute(script_attrs[i].name, script_attrs[i].value);\n    }\n    // store reference to server id on output_area\n    output_area._bokeh_server_id = output.metadata[EXEC_MIME_TYPE][\"server_id\"];\n  }\n}\n\n/**\n * Handle when an output is cleared or removed\n */\nfunction handle_clear_output(event, handle) {\n  var id = handle.cell.output_area._hv_plot_id;\n  var server_id = handle.cell.output_area._bokeh_server_id;\n  if (((id === undefined) || !(id in PyViz.plot_index)) && (server_id !== undefined)) { return; }\n  var comm = window.PyViz.comm_manager.get_client_comm(\"hv-extension-comm\", \"hv-extension-comm\", function () {});\n  if (server_id !== null) {\n    comm.send({event_type: 'server_delete', 'id': server_id});\n    return;\n  } else if (comm !== null) {\n    comm.send({event_type: 'delete', 'id': id});\n  }\n  delete PyViz.plot_index[id];\n  if ((window.Bokeh !== undefined) & (id in window.Bokeh.index)) {\n    var doc = window.Bokeh.index[id].model.document\n    doc.clear();\n    const i = window.Bokeh.documents.indexOf(doc);\n    if (i > -1) {\n      window.Bokeh.documents.splice(i, 1);\n    }\n  }\n}\n\n/**\n * Handle kernel restart event\n */\nfunction handle_kernel_cleanup(event, handle) {\n  delete PyViz.comms[\"hv-extension-comm\"];\n  window.PyViz.plot_index = {}\n}\n\n/**\n * Handle update_display_data messages\n */\nfunction handle_update_output(event, handle) {\n  handle_clear_output(event, {cell: {output_area: handle.output_area}})\n  handle_add_output(event, handle)\n}\n\nfunction register_renderer(events, OutputArea) {\n  function append_mime(data, metadata, element) {\n    // create a DOM node to render to\n    var toinsert = this.create_output_subarea(\n    metadata,\n    CLASS_NAME,\n    EXEC_MIME_TYPE\n    );\n    this.keyboard_manager.register_events(toinsert);\n    // Render to node\n    var props = {data: data, metadata: metadata[EXEC_MIME_TYPE]};\n    render(props, toinsert[0]);\n    element.append(toinsert);\n    return toinsert\n  }\n\n  events.on('output_added.OutputArea', handle_add_output);\n  events.on('output_updated.OutputArea', handle_update_output);\n  events.on('clear_output.CodeCell', handle_clear_output);\n  events.on('delete.Cell', handle_clear_output);\n  events.on('kernel_ready.Kernel', handle_kernel_cleanup);\n\n  OutputArea.prototype.register_mime_type(EXEC_MIME_TYPE, append_mime, {\n    safe: true,\n    index: 0\n  });\n}\n\nif (window.Jupyter !== undefined) {\n  try {\n    var events = require('base/js/events');\n    var OutputArea = require('notebook/js/outputarea').OutputArea;\n    if (OutputArea.prototype.mime_types().indexOf(EXEC_MIME_TYPE) == -1) {\n      register_renderer(events, OutputArea);\n    }\n  } catch(err) {\n  }\n}\n",
      "application/vnd.holoviews_load.v0+json": ""
     },
     "metadata": {},
     "output_type": "display_data"
    },
    {
     "data": {
      "text/html": [
       "<style>.bk-root, .bk-root .bk:before, .bk-root .bk:after {\n",
       "  font-family: var(--jp-ui-font-size1);\n",
       "  font-size: var(--jp-ui-font-size1);\n",
       "  color: var(--jp-ui-font-color1);\n",
       "}\n",
       "</style>"
      ]
     },
     "metadata": {},
     "output_type": "display_data"
    }
   ],
   "source": [
    "import pandas as pd\n",
    "import numpy as np\n",
    "import sqlalchemy\n",
    "import sqlite3\n",
    "import scipy.stats as stats\n",
    "import panel as pn\n",
    "from panel.interact import interact\n",
    "from scipy.stats import linregress\n",
    "pn.extension('tabulator')\n",
    "pn.extension()\n",
    "import hvplot.pandas"
   ]
  },
  {
   "cell_type": "markdown",
   "id": "bb5b8e0b",
   "metadata": {},
   "source": [
    "# Get Data\n"
   ]
  },
  {
   "cell_type": "code",
   "execution_count": 4,
   "id": "d6d32a54",
   "metadata": {},
   "outputs": [],
   "source": [
    "# Open connection with sqlit3 --> Databases is automaticly created if not initializes already\n",
    "con = sqlite3.connect(\"./data/Klimadaten.db\")\n",
    "# Create cursor for executables\n",
    "cur = con.cursor()\n",
    "# Create database engine\n",
    "engine = sqlalchemy.create_engine(\"sqlite:///./data/Klimadaten.db\")"
   ]
  },
  {
   "cell_type": "code",
   "execution_count": 5,
   "id": "cf2dffc2",
   "metadata": {},
   "outputs": [
    {
     "name": "stdout",
     "output_type": "stream",
     "text": [
      "z_agriculture :\n",
      "    ID  timestamp  country  measurement    detrend  zdetrend\n",
      "0    1       1965  Belgium        519.8  68.858688  1.671917\n",
      "1   39       1966  Belgium        507.1  59.653972  1.448423\n",
      "2   77       1967  Belgium        490.9  46.949256  1.139947\n",
      "3  115       1968  Belgium        485.7  45.244540  1.098556\n",
      "rainflux_z :\n",
      "   ID        date    lat   lon   country  measurement  zmeasurement\n",
      "0   1  2010-01-01  38.75 -9.75  Portugal     0.000100     -0.459792\n",
      "1   2  2010-01-01  39.00 -9.75  Portugal     0.000320     -0.191452\n",
      "2   3  2010-01-01  39.25 -9.75  Portugal     0.000189     -0.390452\n",
      "3   4  2010-01-01  39.50 -9.75  Portugal     0.000215     -0.374701\n",
      "grid :\n",
      "     lat   lon   Country\n",
      "0  39.50 -9.75  Portugal\n",
      "1  39.25 -9.75  Portugal\n",
      "2  39.00 -9.75  Portugal\n",
      "3  38.75 -9.75  Portugal\n"
     ]
    }
   ],
   "source": [
    "# list table names\n",
    "query = f\"\"\"\n",
    "        SELECT name \n",
    "        FROM sqlite_master\n",
    "        WHERE TYPE='table';\n",
    "        \"\"\"\n",
    "\n",
    "cur.execute(query)\n",
    "\n",
    "# fetch tablenames\n",
    "table_names = cur.fetchall()\n",
    "\n",
    "# print examples:\n",
    "for table in table_names:\n",
    "        # print tablename\n",
    "        print(table[0], \":\")\n",
    "        \n",
    "        # print example \n",
    "        query = f\"\"\"\n",
    "        SELECT *\n",
    "        FROM {table[0]}\n",
    "        LIMIT 4;\n",
    "        \"\"\"\n",
    "        example = pd.read_sql(query, engine)\n",
    "        \n",
    "        print(example.head())"
   ]
  },
  {
   "cell_type": "code",
   "execution_count": 6,
   "id": "e33071a6",
   "metadata": {},
   "outputs": [
    {
     "data": {
      "text/html": [
       "<div>\n",
       "<style scoped>\n",
       "    .dataframe tbody tr th:only-of-type {\n",
       "        vertical-align: middle;\n",
       "    }\n",
       "\n",
       "    .dataframe tbody tr th {\n",
       "        vertical-align: top;\n",
       "    }\n",
       "\n",
       "    .dataframe thead th {\n",
       "        text-align: right;\n",
       "    }\n",
       "</style>\n",
       "<table border=\"1\" class=\"dataframe\">\n",
       "  <thead>\n",
       "    <tr style=\"text-align: right;\">\n",
       "      <th></th>\n",
       "      <th>lat</th>\n",
       "      <th>lon</th>\n",
       "      <th>Country</th>\n",
       "    </tr>\n",
       "  </thead>\n",
       "  <tbody>\n",
       "    <tr>\n",
       "      <th>0</th>\n",
       "      <td>39.50</td>\n",
       "      <td>-9.75</td>\n",
       "      <td>Portugal</td>\n",
       "    </tr>\n",
       "    <tr>\n",
       "      <th>1</th>\n",
       "      <td>39.25</td>\n",
       "      <td>-9.75</td>\n",
       "      <td>Portugal</td>\n",
       "    </tr>\n",
       "    <tr>\n",
       "      <th>2</th>\n",
       "      <td>39.00</td>\n",
       "      <td>-9.75</td>\n",
       "      <td>Portugal</td>\n",
       "    </tr>\n",
       "    <tr>\n",
       "      <th>3</th>\n",
       "      <td>38.75</td>\n",
       "      <td>-9.75</td>\n",
       "      <td>Portugal</td>\n",
       "    </tr>\n",
       "  </tbody>\n",
       "</table>\n",
       "</div>"
      ],
      "text/plain": [
       "     lat   lon   Country\n",
       "0  39.50 -9.75  Portugal\n",
       "1  39.25 -9.75  Portugal\n",
       "2  39.00 -9.75  Portugal\n",
       "3  38.75 -9.75  Portugal"
      ]
     },
     "execution_count": 6,
     "metadata": {},
     "output_type": "execute_result"
    }
   ],
   "source": [
    "# query grid data\n",
    "query = f\"\"\"\n",
    "        SELECT *\n",
    "        FROM grid\n",
    "        \"\"\"\n",
    "grid = pd.read_sql(query, engine)\n",
    "\n",
    "# look at grid\n",
    "grid.head(4)"
   ]
  },
  {
   "cell_type": "code",
   "execution_count": 7,
   "id": "7f6dfd7d",
   "metadata": {},
   "outputs": [],
   "source": [
    "# get countries\n",
    "countries = list(grid.Country.unique())"
   ]
  },
  {
   "cell_type": "code",
   "execution_count": 8,
   "id": "cc165ee3",
   "metadata": {},
   "outputs": [
    {
     "data": {
      "text/html": [
       "<div>\n",
       "<style scoped>\n",
       "    .dataframe tbody tr th:only-of-type {\n",
       "        vertical-align: middle;\n",
       "    }\n",
       "\n",
       "    .dataframe tbody tr th {\n",
       "        vertical-align: top;\n",
       "    }\n",
       "\n",
       "    .dataframe thead th {\n",
       "        text-align: right;\n",
       "    }\n",
       "</style>\n",
       "<table border=\"1\" class=\"dataframe\">\n",
       "  <thead>\n",
       "    <tr style=\"text-align: right;\">\n",
       "      <th></th>\n",
       "      <th>year</th>\n",
       "      <th>country</th>\n",
       "      <th>production [1000t]</th>\n",
       "      <th>detrend</th>\n",
       "      <th>zdetrend</th>\n",
       "    </tr>\n",
       "  </thead>\n",
       "  <tbody>\n",
       "    <tr>\n",
       "      <th>0</th>\n",
       "      <td>1965</td>\n",
       "      <td>Belgium</td>\n",
       "      <td>519.8</td>\n",
       "      <td>68.858688</td>\n",
       "      <td>1.671917</td>\n",
       "    </tr>\n",
       "    <tr>\n",
       "      <th>1</th>\n",
       "      <td>1966</td>\n",
       "      <td>Belgium</td>\n",
       "      <td>507.1</td>\n",
       "      <td>59.653972</td>\n",
       "      <td>1.448423</td>\n",
       "    </tr>\n",
       "    <tr>\n",
       "      <th>2</th>\n",
       "      <td>1967</td>\n",
       "      <td>Belgium</td>\n",
       "      <td>490.9</td>\n",
       "      <td>46.949256</td>\n",
       "      <td>1.139947</td>\n",
       "    </tr>\n",
       "    <tr>\n",
       "      <th>3</th>\n",
       "      <td>1968</td>\n",
       "      <td>Belgium</td>\n",
       "      <td>485.7</td>\n",
       "      <td>45.244540</td>\n",
       "      <td>1.098556</td>\n",
       "    </tr>\n",
       "  </tbody>\n",
       "</table>\n",
       "</div>"
      ],
      "text/plain": [
       "   year  country  production [1000t]    detrend  zdetrend\n",
       "0  1965  Belgium               519.8  68.858688  1.671917\n",
       "1  1966  Belgium               507.1  59.653972  1.448423\n",
       "2  1967  Belgium               490.9  46.949256  1.139947\n",
       "3  1968  Belgium               485.7  45.244540  1.098556"
      ]
     },
     "execution_count": 8,
     "metadata": {},
     "output_type": "execute_result"
    }
   ],
   "source": [
    "# query agriculture data\n",
    "query = f\"\"\"\n",
    "        SELECT *\n",
    "        FROM z_agriculture\n",
    "        \"\"\"\n",
    "agriculture_z = pd.read_sql(query, engine)\n",
    "agriculture_z.replace(['Portugal', 'Spain', 'Norway', 'Italy', 'Sweden'], countries, inplace = True)\n",
    "agriculture_z.rename(columns={'timestamp': 'year', 'measurement': 'production [1000t]'}, inplace = True)\n",
    "agriculture_z.drop(columns = ['ID'], inplace = True)\n",
    "agriculture_z.year = agriculture_z.year.astype('str')\n",
    "agriculture_z['production [1000t]'] = agriculture_z['production [1000t]'].fillna(0)\n",
    "# look at agriculture\n",
    "agriculture_z.head(4)"
   ]
  },
  {
   "cell_type": "code",
   "execution_count": 9,
   "id": "416249d5",
   "metadata": {},
   "outputs": [
    {
     "data": {
      "text/html": [
       "<div>\n",
       "<style scoped>\n",
       "    .dataframe tbody tr th:only-of-type {\n",
       "        vertical-align: middle;\n",
       "    }\n",
       "\n",
       "    .dataframe tbody tr th {\n",
       "        vertical-align: top;\n",
       "    }\n",
       "\n",
       "    .dataframe thead th {\n",
       "        text-align: right;\n",
       "    }\n",
       "</style>\n",
       "<table border=\"1\" class=\"dataframe\">\n",
       "  <thead>\n",
       "    <tr style=\"text-align: right;\">\n",
       "      <th></th>\n",
       "      <th>ID</th>\n",
       "      <th>timestamp</th>\n",
       "      <th>country</th>\n",
       "      <th>measurement</th>\n",
       "      <th>detrend</th>\n",
       "      <th>zdetrend</th>\n",
       "    </tr>\n",
       "  </thead>\n",
       "  <tbody>\n",
       "    <tr>\n",
       "      <th>0</th>\n",
       "      <td>571</td>\n",
       "      <td>1980</td>\n",
       "      <td>Belgium</td>\n",
       "      <td>390.7</td>\n",
       "      <td>-7.812053</td>\n",
       "      <td>-0.189680</td>\n",
       "    </tr>\n",
       "    <tr>\n",
       "      <th>1</th>\n",
       "      <td>609</td>\n",
       "      <td>1981</td>\n",
       "      <td>Belgium</td>\n",
       "      <td>371.7</td>\n",
       "      <td>-23.316769</td>\n",
       "      <td>-0.566141</td>\n",
       "    </tr>\n",
       "    <tr>\n",
       "      <th>2</th>\n",
       "      <td>647</td>\n",
       "      <td>1982</td>\n",
       "      <td>Belgium</td>\n",
       "      <td>361.3</td>\n",
       "      <td>-30.221485</td>\n",
       "      <td>-0.733790</td>\n",
       "    </tr>\n",
       "    <tr>\n",
       "      <th>3</th>\n",
       "      <td>685</td>\n",
       "      <td>1983</td>\n",
       "      <td>Belgium</td>\n",
       "      <td>373.4</td>\n",
       "      <td>-14.626201</td>\n",
       "      <td>-0.355130</td>\n",
       "    </tr>\n",
       "    <tr>\n",
       "      <th>4</th>\n",
       "      <td>723</td>\n",
       "      <td>1984</td>\n",
       "      <td>Belgium</td>\n",
       "      <td>360.5</td>\n",
       "      <td>-24.030918</td>\n",
       "      <td>-0.583481</td>\n",
       "    </tr>\n",
       "    <tr>\n",
       "      <th>...</th>\n",
       "      <td>...</td>\n",
       "      <td>...</td>\n",
       "      <td>...</td>\n",
       "      <td>...</td>\n",
       "      <td>...</td>\n",
       "      <td>...</td>\n",
       "    </tr>\n",
       "    <tr>\n",
       "      <th>2560</th>\n",
       "      <td>972</td>\n",
       "      <td>2016</td>\n",
       "      <td>Turkey</td>\n",
       "      <td>1080.0</td>\n",
       "      <td>41.484129</td>\n",
       "      <td>NaN</td>\n",
       "    </tr>\n",
       "    <tr>\n",
       "      <th>2561</th>\n",
       "      <td>1008</td>\n",
       "      <td>2017</td>\n",
       "      <td>Turkey</td>\n",
       "      <td>1165.0</td>\n",
       "      <td>92.887509</td>\n",
       "      <td>NaN</td>\n",
       "    </tr>\n",
       "    <tr>\n",
       "      <th>2562</th>\n",
       "      <td>1044</td>\n",
       "      <td>2018</td>\n",
       "      <td>Turkey</td>\n",
       "      <td>1225.0</td>\n",
       "      <td>119.290889</td>\n",
       "      <td>NaN</td>\n",
       "    </tr>\n",
       "    <tr>\n",
       "      <th>2563</th>\n",
       "      <td>1080</td>\n",
       "      <td>2019</td>\n",
       "      <td>Turkey</td>\n",
       "      <td>1288.0</td>\n",
       "      <td>148.694269</td>\n",
       "      <td>NaN</td>\n",
       "    </tr>\n",
       "    <tr>\n",
       "      <th>2564</th>\n",
       "      <td>1116</td>\n",
       "      <td>2020</td>\n",
       "      <td>Turkey</td>\n",
       "      <td>1345.0</td>\n",
       "      <td>172.097649</td>\n",
       "      <td>NaN</td>\n",
       "    </tr>\n",
       "  </tbody>\n",
       "</table>\n",
       "<p>2565 rows × 6 columns</p>\n",
       "</div>"
      ],
      "text/plain": [
       "        ID  timestamp  country  measurement     detrend  zdetrend\n",
       "0      571       1980  Belgium        390.7   -7.812053 -0.189680\n",
       "1      609       1981  Belgium        371.7  -23.316769 -0.566141\n",
       "2      647       1982  Belgium        361.3  -30.221485 -0.733790\n",
       "3      685       1983  Belgium        373.4  -14.626201 -0.355130\n",
       "4      723       1984  Belgium        360.5  -24.030918 -0.583481\n",
       "...    ...        ...      ...          ...         ...       ...\n",
       "2560   972       2016   Turkey       1080.0   41.484129       NaN\n",
       "2561  1008       2017   Turkey       1165.0   92.887509       NaN\n",
       "2562  1044       2018   Turkey       1225.0  119.290889       NaN\n",
       "2563  1080       2019   Turkey       1288.0  148.694269       NaN\n",
       "2564  1116       2020   Turkey       1345.0  172.097649       NaN\n",
       "\n",
       "[2565 rows x 6 columns]"
      ]
     },
     "execution_count": 9,
     "metadata": {},
     "output_type": "execute_result"
    }
   ],
   "source": [
    "query2 = \"\"\"\n",
    "SELECT *\n",
    "FROM z_agriculture\n",
    "WHERE timestamp BETWEEN 1980 AND 2020\n",
    ";\n",
    "\"\"\"\n",
    "agriculture = pd.read_sql(query2,engine)\n",
    "agriculture"
   ]
  },
  {
   "cell_type": "code",
   "execution_count": 10,
   "id": "45f8a0bc",
   "metadata": {},
   "outputs": [
    {
     "data": {
      "text/html": [
       "<div>\n",
       "<style scoped>\n",
       "    .dataframe tbody tr th:only-of-type {\n",
       "        vertical-align: middle;\n",
       "    }\n",
       "\n",
       "    .dataframe tbody tr th {\n",
       "        vertical-align: top;\n",
       "    }\n",
       "\n",
       "    .dataframe thead th {\n",
       "        text-align: right;\n",
       "    }\n",
       "</style>\n",
       "<table border=\"1\" class=\"dataframe\">\n",
       "  <thead>\n",
       "    <tr style=\"text-align: right;\">\n",
       "      <th></th>\n",
       "      <th>ID</th>\n",
       "      <th>date</th>\n",
       "      <th>lat</th>\n",
       "      <th>lon</th>\n",
       "      <th>country</th>\n",
       "      <th>measurement</th>\n",
       "      <th>zmeasurement</th>\n",
       "      <th>year</th>\n",
       "    </tr>\n",
       "  </thead>\n",
       "  <tbody>\n",
       "    <tr>\n",
       "      <th>0</th>\n",
       "      <td>1</td>\n",
       "      <td>2010-01-01</td>\n",
       "      <td>38.75</td>\n",
       "      <td>-9.75</td>\n",
       "      <td>Portugal</td>\n",
       "      <td>0.000100</td>\n",
       "      <td>-0.459792</td>\n",
       "      <td>2010</td>\n",
       "    </tr>\n",
       "    <tr>\n",
       "      <th>1</th>\n",
       "      <td>2</td>\n",
       "      <td>2010-01-01</td>\n",
       "      <td>39.00</td>\n",
       "      <td>-9.75</td>\n",
       "      <td>Portugal</td>\n",
       "      <td>0.000320</td>\n",
       "      <td>-0.191452</td>\n",
       "      <td>2010</td>\n",
       "    </tr>\n",
       "    <tr>\n",
       "      <th>2</th>\n",
       "      <td>3</td>\n",
       "      <td>2010-01-01</td>\n",
       "      <td>39.25</td>\n",
       "      <td>-9.75</td>\n",
       "      <td>Portugal</td>\n",
       "      <td>0.000189</td>\n",
       "      <td>-0.390452</td>\n",
       "      <td>2010</td>\n",
       "    </tr>\n",
       "    <tr>\n",
       "      <th>3</th>\n",
       "      <td>4</td>\n",
       "      <td>2010-01-01</td>\n",
       "      <td>39.50</td>\n",
       "      <td>-9.75</td>\n",
       "      <td>Portugal</td>\n",
       "      <td>0.000215</td>\n",
       "      <td>-0.374701</td>\n",
       "      <td>2010</td>\n",
       "    </tr>\n",
       "  </tbody>\n",
       "</table>\n",
       "</div>"
      ],
      "text/plain": [
       "   ID       date    lat   lon   country  measurement  zmeasurement  year\n",
       "0   1 2010-01-01  38.75 -9.75  Portugal     0.000100     -0.459792  2010\n",
       "1   2 2010-01-01  39.00 -9.75  Portugal     0.000320     -0.191452  2010\n",
       "2   3 2010-01-01  39.25 -9.75  Portugal     0.000189     -0.390452  2010\n",
       "3   4 2010-01-01  39.50 -9.75  Portugal     0.000215     -0.374701  2010"
      ]
     },
     "execution_count": 10,
     "metadata": {},
     "output_type": "execute_result"
    }
   ],
   "source": [
    "# 1min\n",
    "# query rainflux data\n",
    "query = f\"\"\"\n",
    "        SELECT * \n",
    "        FROM rainflux_z\n",
    "        \"\"\"\n",
    "\n",
    "rainflux_z = pd.read_sql(query, engine)\n",
    "rainflux_z.date = pd.to_datetime(rainflux_z.date)\n",
    "rainflux_z['year'] = rainflux_z.date.dt.strftime('%Y')\n",
    "rainflux_z['year'] = rainflux_z['year'].astype('int')\n",
    "years = rainflux_z.date.dt.strftime(\"%Y\").unique()\n",
    "rainflux_z.head(4)"
   ]
  },
  {
   "cell_type": "code",
   "execution_count": 11,
   "id": "ba4ecc5f",
   "metadata": {},
   "outputs": [
    {
     "data": {
      "text/html": [
       "<div>\n",
       "<style scoped>\n",
       "    .dataframe tbody tr th:only-of-type {\n",
       "        vertical-align: middle;\n",
       "    }\n",
       "\n",
       "    .dataframe tbody tr th {\n",
       "        vertical-align: top;\n",
       "    }\n",
       "\n",
       "    .dataframe thead th {\n",
       "        text-align: right;\n",
       "    }\n",
       "</style>\n",
       "<table border=\"1\" class=\"dataframe\">\n",
       "  <thead>\n",
       "    <tr style=\"text-align: right;\">\n",
       "      <th></th>\n",
       "      <th>date</th>\n",
       "      <th>month</th>\n",
       "      <th>country</th>\n",
       "      <th>rainfall</th>\n",
       "      <th>lat</th>\n",
       "      <th>lon</th>\n",
       "    </tr>\n",
       "  </thead>\n",
       "  <tbody>\n",
       "    <tr>\n",
       "      <th>0</th>\n",
       "      <td>2010</td>\n",
       "      <td>01</td>\n",
       "      <td>España</td>\n",
       "      <td>8.906281</td>\n",
       "      <td>42.75</td>\n",
       "      <td>-9.50</td>\n",
       "    </tr>\n",
       "    <tr>\n",
       "      <th>1</th>\n",
       "      <td>2010</td>\n",
       "      <td>01</td>\n",
       "      <td>Italia</td>\n",
       "      <td>10.392260</td>\n",
       "      <td>45.50</td>\n",
       "      <td>7.50</td>\n",
       "    </tr>\n",
       "    <tr>\n",
       "      <th>2</th>\n",
       "      <td>2010</td>\n",
       "      <td>01</td>\n",
       "      <td>Norge</td>\n",
       "      <td>2.296230</td>\n",
       "      <td>61.50</td>\n",
       "      <td>4.25</td>\n",
       "    </tr>\n",
       "    <tr>\n",
       "      <th>3</th>\n",
       "      <td>2010</td>\n",
       "      <td>01</td>\n",
       "      <td>Portugal</td>\n",
       "      <td>3.150339</td>\n",
       "      <td>38.75</td>\n",
       "      <td>-9.75</td>\n",
       "    </tr>\n",
       "    <tr>\n",
       "      <th>4</th>\n",
       "      <td>2010</td>\n",
       "      <td>01</td>\n",
       "      <td>Sverige</td>\n",
       "      <td>0.053376</td>\n",
       "      <td>58.50</td>\n",
       "      <td>10.75</td>\n",
       "    </tr>\n",
       "    <tr>\n",
       "      <th>...</th>\n",
       "      <td>...</td>\n",
       "      <td>...</td>\n",
       "      <td>...</td>\n",
       "      <td>...</td>\n",
       "      <td>...</td>\n",
       "      <td>...</td>\n",
       "    </tr>\n",
       "    <tr>\n",
       "      <th>655</th>\n",
       "      <td>2020</td>\n",
       "      <td>12</td>\n",
       "      <td>España</td>\n",
       "      <td>8.423653</td>\n",
       "      <td>42.75</td>\n",
       "      <td>-9.50</td>\n",
       "    </tr>\n",
       "    <tr>\n",
       "      <th>656</th>\n",
       "      <td>2020</td>\n",
       "      <td>12</td>\n",
       "      <td>Italia</td>\n",
       "      <td>16.498457</td>\n",
       "      <td>45.00</td>\n",
       "      <td>6.75</td>\n",
       "    </tr>\n",
       "    <tr>\n",
       "      <th>657</th>\n",
       "      <td>2020</td>\n",
       "      <td>12</td>\n",
       "      <td>Norge</td>\n",
       "      <td>5.979299</td>\n",
       "      <td>61.75</td>\n",
       "      <td>4.25</td>\n",
       "    </tr>\n",
       "    <tr>\n",
       "      <th>658</th>\n",
       "      <td>2020</td>\n",
       "      <td>12</td>\n",
       "      <td>Portugal</td>\n",
       "      <td>2.245834</td>\n",
       "      <td>38.75</td>\n",
       "      <td>-9.75</td>\n",
       "    </tr>\n",
       "    <tr>\n",
       "      <th>659</th>\n",
       "      <td>2020</td>\n",
       "      <td>12</td>\n",
       "      <td>Sverige</td>\n",
       "      <td>1.993152</td>\n",
       "      <td>58.50</td>\n",
       "      <td>10.75</td>\n",
       "    </tr>\n",
       "  </tbody>\n",
       "</table>\n",
       "<p>660 rows × 6 columns</p>\n",
       "</div>"
      ],
      "text/plain": [
       "     date month   country   rainfall    lat    lon\n",
       "0    2010    01    España   8.906281  42.75  -9.50\n",
       "1    2010    01    Italia  10.392260  45.50   7.50\n",
       "2    2010    01     Norge   2.296230  61.50   4.25\n",
       "3    2010    01  Portugal   3.150339  38.75  -9.75\n",
       "4    2010    01   Sverige   0.053376  58.50  10.75\n",
       "..    ...   ...       ...        ...    ...    ...\n",
       "655  2020    12    España   8.423653  42.75  -9.50\n",
       "656  2020    12    Italia  16.498457  45.00   6.75\n",
       "657  2020    12     Norge   5.979299  61.75   4.25\n",
       "658  2020    12  Portugal   2.245834  38.75  -9.75\n",
       "659  2020    12   Sverige   1.993152  58.50  10.75\n",
       "\n",
       "[660 rows x 6 columns]"
      ]
     },
     "execution_count": 11,
     "metadata": {},
     "output_type": "execute_result"
    }
   ],
   "source": [
    "query2 = \"\"\"\n",
    "SELECT strftime('%Y', date) AS date,strftime('%m', date) AS month, country, SUM(measurement) AS rainfall,lat,lon\n",
    "FROM rainflux_z\n",
    "GROUP BY strftime('%Y-%m', date), country;\n",
    "\"\"\"\n",
    "rainflux_month = pd.read_sql(query2, engine)\n",
    "rainflux_month"
   ]
  },
  {
   "cell_type": "markdown",
   "id": "edab78c4",
   "metadata": {},
   "source": [
    "# Dashboard Widgets"
   ]
  },
  {
   "cell_type": "code",
   "execution_count": 12,
   "id": "8a5e9c9a",
   "metadata": {},
   "outputs": [],
   "source": [
    "multi_country_selector = pn.widgets.CheckButtonGroup(   name='Country selector', \n",
    "                                                        value=['all'], \n",
    "                                                        options=countries + ['all'])\n",
    "multi_country_selector2 = pn.widgets.CheckButtonGroup(   name='Country selector', \n",
    "                                                        value=['Portugal'], \n",
    "                                                        options=countries)\n",
    "\n",
    "grenze_slider = pn.widgets.FloatSlider( name='Auswahl Grenze(z)', \n",
    "                                        start=2, \n",
    "                                        end=10, \n",
    "                                        step=0.1, \n",
    "                                        value=4)\n",
    "\n",
    "year_slider = pn.widgets.IntSlider( name='Auswahl Jahr', \n",
    "                                    start=2010, \n",
    "                                    end=2020, \n",
    "                                    value=2010)\n",
    "\n",
    "radio_group = pn.widgets.RadioButtonGroup(  name='Select measurement', \n",
    "                                            options=[   'Agriculture_zdetrend',    \n",
    "                                                        'Rainfall_Magnitude'], \n",
    "                                            button_type='success')\n",
    "start_year_slider = pn.widgets.IntSlider( name = 'Ausgewählt ',\n",
    "                                    start = 2010,\n",
    "                                    end = 2020,\n",
    "                                    step = 1,\n",
    "                                    value = 2010)\n",
    "end_year_slider = pn.widgets.IntSlider( name = 'Ausgewählt ',\n",
    "                                    start = 2010,\n",
    "                                    end = 2020,\n",
    "                                    step = 1,\n",
    "                                    value = 2020)"
   ]
  },
  {
   "cell_type": "markdown",
   "id": "5f7374bc",
   "metadata": {},
   "source": [
    "# Zusammenhangsanalyse"
   ]
  },
  {
   "cell_type": "code",
   "execution_count": 13,
   "id": "a0b05ff0",
   "metadata": {},
   "outputs": [
    {
     "name": "stderr",
     "output_type": "stream",
     "text": [
      "/var/folders/5l/8fvb5kzs1_s2cq12n2mb3tlw0000gn/T/ipykernel_14872/2141471517.py:28: FutureWarning: The frame.append method is deprecated and will be removed from pandas in a future version. Use pandas.concat instead.\n",
      "  agriculture_z_a = agriculture_z_a.append(tmp, ignore_index=True)\n",
      "/var/folders/5l/8fvb5kzs1_s2cq12n2mb3tlw0000gn/T/ipykernel_14872/2141471517.py:28: FutureWarning: The frame.append method is deprecated and will be removed from pandas in a future version. Use pandas.concat instead.\n",
      "  agriculture_z_a = agriculture_z_a.append(tmp, ignore_index=True)\n",
      "/var/folders/5l/8fvb5kzs1_s2cq12n2mb3tlw0000gn/T/ipykernel_14872/2141471517.py:28: FutureWarning: The frame.append method is deprecated and will be removed from pandas in a future version. Use pandas.concat instead.\n",
      "  agriculture_z_a = agriculture_z_a.append(tmp, ignore_index=True)\n",
      "/var/folders/5l/8fvb5kzs1_s2cq12n2mb3tlw0000gn/T/ipykernel_14872/2141471517.py:28: FutureWarning: The frame.append method is deprecated and will be removed from pandas in a future version. Use pandas.concat instead.\n",
      "  agriculture_z_a = agriculture_z_a.append(tmp, ignore_index=True)\n",
      "/var/folders/5l/8fvb5kzs1_s2cq12n2mb3tlw0000gn/T/ipykernel_14872/2141471517.py:28: FutureWarning: The frame.append method is deprecated and will be removed from pandas in a future version. Use pandas.concat instead.\n",
      "  agriculture_z_a = agriculture_z_a.append(tmp, ignore_index=True)\n",
      "/var/folders/5l/8fvb5kzs1_s2cq12n2mb3tlw0000gn/T/ipykernel_14872/2141471517.py:56: FutureWarning: The frame.append method is deprecated and will be removed from pandas in a future version. Use pandas.concat instead.\n",
      "  agriculture_z_a = agriculture_z_a.append(tmp, ignore_index=True)\n"
     ]
    },
    {
     "data": {
      "text/html": [
       "<div>\n",
       "<style scoped>\n",
       "    .dataframe tbody tr th:only-of-type {\n",
       "        vertical-align: middle;\n",
       "    }\n",
       "\n",
       "    .dataframe tbody tr th {\n",
       "        vertical-align: top;\n",
       "    }\n",
       "\n",
       "    .dataframe thead th {\n",
       "        text-align: right;\n",
       "    }\n",
       "</style>\n",
       "<table border=\"1\" class=\"dataframe\">\n",
       "  <thead>\n",
       "    <tr style=\"text-align: right;\">\n",
       "      <th></th>\n",
       "      <th>year</th>\n",
       "      <th>country</th>\n",
       "      <th>production [1000t]</th>\n",
       "      <th>detrend</th>\n",
       "      <th>zdetrend</th>\n",
       "      <th>fit</th>\n",
       "    </tr>\n",
       "  </thead>\n",
       "  <tbody>\n",
       "    <tr>\n",
       "      <th>0</th>\n",
       "      <td>2010</td>\n",
       "      <td>Portugal</td>\n",
       "      <td>305.34</td>\n",
       "      <td>144.373864</td>\n",
       "      <td>1.112926</td>\n",
       "      <td>160.966136</td>\n",
       "    </tr>\n",
       "    <tr>\n",
       "      <th>1</th>\n",
       "      <td>2011</td>\n",
       "      <td>Portugal</td>\n",
       "      <td>284.22</td>\n",
       "      <td>127.693364</td>\n",
       "      <td>0.984342</td>\n",
       "      <td>156.526636</td>\n",
       "    </tr>\n",
       "    <tr>\n",
       "      <th>2</th>\n",
       "      <td>2012</td>\n",
       "      <td>Portugal</td>\n",
       "      <td>288.97</td>\n",
       "      <td>136.882864</td>\n",
       "      <td>1.055181</td>\n",
       "      <td>152.087136</td>\n",
       "    </tr>\n",
       "    <tr>\n",
       "      <th>3</th>\n",
       "      <td>2013</td>\n",
       "      <td>Portugal</td>\n",
       "      <td>315.1</td>\n",
       "      <td>167.452364</td>\n",
       "      <td>1.29083</td>\n",
       "      <td>147.647636</td>\n",
       "    </tr>\n",
       "  </tbody>\n",
       "</table>\n",
       "</div>"
      ],
      "text/plain": [
       "   year   country production [1000t]     detrend  zdetrend         fit\n",
       "0  2010  Portugal             305.34  144.373864  1.112926  160.966136\n",
       "1  2011  Portugal             284.22  127.693364  0.984342  156.526636\n",
       "2  2012  Portugal             288.97  136.882864  1.055181  152.087136\n",
       "3  2013  Portugal              315.1  167.452364   1.29083  147.647636"
      ]
     },
     "execution_count": 13,
     "metadata": {},
     "output_type": "execute_result"
    }
   ],
   "source": [
    "agriculture_z_a = pd.DataFrame(columns = agriculture_z.columns)\n",
    "\n",
    "## detrend & z-scores agriculture\n",
    "for c in countries:\n",
    "    # filter for country\n",
    "    tmp = agriculture_z[agriculture_z.country == c]\n",
    "    tmp = tmp[tmp.year.astype('int') >= 2010]\n",
    "    tmp = tmp[tmp.year.astype('int') <= 2020]\n",
    "    tmp['fit'] = tmp.year.astype('int') * 0\n",
    "\n",
    "    values = tmp['production [1000t]']\n",
    "    dates = tmp['year'].astype('int')\n",
    "\n",
    "    # fit line (linear regression 1 degree)\n",
    "    b1_fit, b0_fit = np.polyfit(x = dates, y = values, deg = 1)\n",
    "    y_fit = []\n",
    "    for e in dates:\n",
    "            y_fit.append(b0_fit + b1_fit * e)\n",
    "\n",
    "    # calculate detrended data\n",
    "    tmp['detrend'] = values - y_fit\n",
    "    tmp['fit'] = y_fit\n",
    "\n",
    "    # calculate z-scores\n",
    "    tmp[\"zdetrend\"] = stats.zscore(tmp['detrend'])\n",
    "\n",
    "    # append to df\n",
    "    agriculture_z_a = agriculture_z_a.append(tmp, ignore_index=True)\n",
    "\n",
    "# filter for country\n",
    "tmp = agriculture_z\n",
    "tmp = tmp[tmp.year.astype('int') >= 2010]\n",
    "tmp = tmp[tmp.year.astype('int') <= 2020]\n",
    "tmp['fit'] = tmp.year.astype('int') * 0\n",
    "tmp = tmp.groupby('year').sum()\n",
    "tmp.reset_index(inplace = True)\n",
    "tmp['country'] = 'all'\n",
    "\n",
    "values = tmp['production [1000t]']\n",
    "dates = tmp['year'].astype('int')\n",
    "\n",
    "# fit line (linear regression 1 degree)\n",
    "b1_fit, b0_fit = np.polyfit(x = dates, y = values, deg = 1)\n",
    "y_fit = []\n",
    "for e in dates:\n",
    "    y_fit.append(b0_fit + b1_fit * e)\n",
    "\n",
    "# calculate detrended data\n",
    "tmp['detrend'] = values - y_fit\n",
    "tmp['fit'] = y_fit\n",
    "\n",
    "# calculate z-scores\n",
    "tmp[\"zdetrend\"] = stats.zscore(tmp['detrend'])\n",
    "\n",
    "# append to df\n",
    "agriculture_z_a = agriculture_z_a.append(tmp, ignore_index=True)\n",
    "\n",
    "agriculture_z_a.head(4)\n"
   ]
  },
  {
   "cell_type": "code",
   "execution_count": 14,
   "id": "90601394",
   "metadata": {},
   "outputs": [],
   "source": [
    "## 5min\n",
    "## set up empty dataframe for corelation data\n",
    "corr = pd.DataFrame(columns = [ 'grenze_starkregen', \n",
    "                                '%-Strakregen', \n",
    "                                'Starkregen Anzahl', \n",
    "                                'min_Starkregen', \n",
    "                                'max_Starkregen', \n",
    "                                'avg_Starkregen',\n",
    "                                'country', \n",
    "                                'r-value', \n",
    "                                'p-value'])\n",
    "\n",
    "corr.reset_index(drop=True, inplace=True)\n",
    "\n",
    "## set up empty dataframe for yearly data\n",
    "yearly_vals = pd.DataFrame(columns= ['country',\n",
    "                                    'year',\n",
    "                                    'yearly_sum',\n",
    "                                    'production [1000t]',\n",
    "                                    'detrend',\n",
    "                                    'zdetrend',\n",
    "                                    'fit',\n",
    "                                    'grenze_starkregen'])\n",
    "\n",
    "for i in np.round(np.linspace(start = 2, stop = 10, num = 81), 1):\n",
    "    ## setze Starkregen grenze\n",
    "    grenze_starkregen = i\n",
    "\n",
    "    ## berechne wie viele % als Starkregen gelten\n",
    "    query = f\"\"\"\n",
    "        SELECT country, COUNT() AS c\n",
    "        FROM rainflux_z\n",
    "        WHERE zmeasurement - {grenze_starkregen} > 0\n",
    "        GROUP BY country\n",
    "        ;\n",
    "        \"\"\"\n",
    "    count_1 = pd.read_sql(query, engine)\n",
    "\n",
    "    query = f\"\"\"\n",
    "        SELECT country, COUNT() AS c\n",
    "        FROM rainflux_z\n",
    "        GROUP BY country\n",
    "        ;\n",
    "        \"\"\"\n",
    "    count_2 = pd.read_sql(query, engine)\n",
    "\n",
    "    # lese Starkregen magnitude aus\n",
    "    query = f\"\"\"\n",
    "            SELECT  country, \n",
    "                    year, \n",
    "                    AVG(yearly_sum) AS yearly_sum, \n",
    "                    MIN(min_measurement) AS min_measurement,\n",
    "                    MAX(max_measurement) AS max_measurement,\n",
    "                    SUM(sum_measurement) AS sum_measurement,\n",
    "                    SUM(count_measurement) AS count_measurement\n",
    "            FROM    (\n",
    "                    SELECT      country, \n",
    "                                strftime('%Y', date) AS year, \n",
    "                                SUM(magnitude) AS yearly_sum, \n",
    "                                MIN(measurement) AS min_measurement,\n",
    "                                SUM(measurement) AS sum_measurement,\n",
    "                                COUNT(measurement) AS count_measurement,\n",
    "                                MAX(measurement) AS max_measurement \n",
    "                    FROM        (\n",
    "                                SELECT *, zmeasurement - {grenze_starkregen} AS magnitude\n",
    "                                FROM rainflux_z\n",
    "                                WHERE zmeasurement - {grenze_starkregen} > 0) \n",
    "                    GROUP BY lat, lon, strftime('%Y', date))\n",
    "            GROUP BY country, year;\n",
    "        \"\"\"\n",
    "    starkregen = pd.read_sql(query, engine)\n",
    "    ## get values for all\n",
    "    tmp = starkregen.groupby('year').sum()\n",
    "    tmp['country'] = 'all'\n",
    "    tmp['yearly_sum'] = starkregen.groupby('year').mean().yearly_sum\n",
    "    tmp['min_measurement'] = starkregen.groupby('year').min().min_measurement\n",
    "    tmp['max_measurement'] = starkregen.groupby('year').max().max_measurement\n",
    "    tmp.reset_index(inplace=True)\n",
    "\n",
    "    starkregen = pd.concat([starkregen, tmp]) \n",
    "\n",
    "    ## Joine Starkregenfälle mit agricultur daten\n",
    "    data =starkregen.merge( agriculture_z_a,\n",
    "                            on = ['country', 'year'],\n",
    "                            how='left', )\n",
    "    data['grenze_starkregen'] = grenze_starkregen\n",
    "\n",
    "\n",
    "    for c in countries:\n",
    "        ####################################### append correlation data for single country ######################################\n",
    "        # filter for country\n",
    "        tmp = data[data.country == c]\n",
    "\n",
    "        # calculate correlation\n",
    "        tmp_corr = linregress(tmp.yearly_sum.astype('float'), tmp.zdetrend.astype('float'), alternative= 'two-sided')\n",
    "\n",
    "        # append to corr df \n",
    "        tmp = pd.DataFrame({    'grenze_starkregen' : grenze_starkregen, \n",
    "                                '%-Strakregen': count_1[count_1.country == c]['c'] / count_2[count_2.country == c]['c'] * 100, \n",
    "                                'Starkregen Anzahl' : count_1[count_1.country == c]['c'], \n",
    "                                'min_Starkregen' : tmp.min_measurement.min() * 86400,\n",
    "                                'max_Starkregen' : tmp.max_measurement.max() * 86400,\n",
    "                                'avg_Starkregen' : tmp.sum_measurement.sum() / tmp.count_measurement.sum() * 86400, \n",
    "                                'country' : c , \n",
    "                                'r-value' : tmp_corr[2], \n",
    "                                'p-value' : tmp_corr[3]})\n",
    "\n",
    "        corr = pd.concat([corr, tmp])\n",
    "\n",
    "    ####################################### append yearly vals ########################################\n",
    "    tmp = data[yearly_vals.columns]\n",
    "\n",
    "    yearly_vals = pd.concat([yearly_vals, tmp])\n",
    "    \n",
    "    ####################################### append correlation data for overall ######################################    \n",
    "    tmp = data\n",
    "    # calculate correlation\n",
    "    tmp_corr = linregress(tmp.yearly_sum.astype('float'), tmp.zdetrend.astype('float'), alternative= 'two-sided')\n",
    "\n",
    "    # append to corr df\n",
    "    tmp = pd.DataFrame({    'grenze_starkregen' : [grenze_starkregen], \n",
    "                            '%-Strakregen': [count_1.c.sum() / count_2.c.sum() * 100], \n",
    "                            'Starkregen Anzahl' : [count_1.c.sum()], \n",
    "                            'min_Starkregen' : [tmp.min_measurement.min() * 86400],\n",
    "                            'max_Starkregen' : [tmp.max_measurement.max() * 86400],\n",
    "                            'avg_Starkregen' : [tmp.sum_measurement.sum() / tmp.count_measurement.sum() * 86400], \n",
    "                            'country' : [\"all\" ], \n",
    "                            'r-value' : [tmp_corr[2]], \n",
    "                            'p-value' : [tmp_corr[3]]})\n",
    "\n",
    "    corr = pd.concat([corr, tmp])\n",
    "\n",
    "# convert to int\n",
    "corr['Starkregen Anzahl'] = corr['Starkregen Anzahl'].astype('int')\n",
    "corr['%-Strakregen'] = corr['%-Strakregen'].astype('float')"
   ]
  },
  {
   "cell_type": "code",
   "execution_count": 15,
   "id": "db9a78be",
   "metadata": {},
   "outputs": [
    {
     "data": {
      "text/html": [
       "<div>\n",
       "<style scoped>\n",
       "    .dataframe tbody tr th:only-of-type {\n",
       "        vertical-align: middle;\n",
       "    }\n",
       "\n",
       "    .dataframe tbody tr th {\n",
       "        vertical-align: top;\n",
       "    }\n",
       "\n",
       "    .dataframe thead th {\n",
       "        text-align: right;\n",
       "    }\n",
       "</style>\n",
       "<table border=\"1\" class=\"dataframe\">\n",
       "  <thead>\n",
       "    <tr style=\"text-align: right;\">\n",
       "      <th></th>\n",
       "      <th>grenze_starkregen</th>\n",
       "      <th>%-Strakregen</th>\n",
       "      <th>Starkregen Anzahl</th>\n",
       "      <th>min_Starkregen</th>\n",
       "      <th>max_Starkregen</th>\n",
       "      <th>avg_Starkregen</th>\n",
       "      <th>country</th>\n",
       "      <th>r-value</th>\n",
       "      <th>p-value</th>\n",
       "    </tr>\n",
       "  </thead>\n",
       "  <tbody>\n",
       "    <tr>\n",
       "      <th>3</th>\n",
       "      <td>2.0</td>\n",
       "      <td>5.459580</td>\n",
       "      <td>18434</td>\n",
       "      <td>10.383005</td>\n",
       "      <td>1795.700305</td>\n",
       "      <td>387.84507</td>\n",
       "      <td>Portugal</td>\n",
       "      <td>-0.007623</td>\n",
       "      <td>0.973142</td>\n",
       "    </tr>\n",
       "    <tr>\n",
       "      <th>0</th>\n",
       "      <td>2.0</td>\n",
       "      <td>5.340726</td>\n",
       "      <td>93197</td>\n",
       "      <td>3.343736</td>\n",
       "      <td>3093.187874</td>\n",
       "      <td>338.578392</td>\n",
       "      <td>España</td>\n",
       "      <td>0.000271</td>\n",
       "      <td>0.999046</td>\n",
       "    </tr>\n",
       "    <tr>\n",
       "      <th>2</th>\n",
       "      <td>2.0</td>\n",
       "      <td>5.256681</td>\n",
       "      <td>143317</td>\n",
       "      <td>0.81448</td>\n",
       "      <td>2007.821284</td>\n",
       "      <td>269.744956</td>\n",
       "      <td>Norge</td>\n",
       "      <td>-0.003006</td>\n",
       "      <td>0.989408</td>\n",
       "    </tr>\n",
       "    <tr>\n",
       "      <th>1</th>\n",
       "      <td>2.0</td>\n",
       "      <td>5.247709</td>\n",
       "      <td>84618</td>\n",
       "      <td>0.512208</td>\n",
       "      <td>3675.396481</td>\n",
       "      <td>459.247759</td>\n",
       "      <td>Italia</td>\n",
       "      <td>0.01511</td>\n",
       "      <td>0.946791</td>\n",
       "    </tr>\n",
       "  </tbody>\n",
       "</table>\n",
       "</div>"
      ],
      "text/plain": [
       "  grenze_starkregen  %-Strakregen  Starkregen Anzahl min_Starkregen  \\\n",
       "3               2.0      5.459580              18434      10.383005   \n",
       "0               2.0      5.340726              93197       3.343736   \n",
       "2               2.0      5.256681             143317        0.81448   \n",
       "1               2.0      5.247709              84618       0.512208   \n",
       "\n",
       "  max_Starkregen avg_Starkregen   country   r-value   p-value  \n",
       "3    1795.700305      387.84507  Portugal -0.007623  0.973142  \n",
       "0    3093.187874     338.578392    España  0.000271  0.999046  \n",
       "2    2007.821284     269.744956     Norge -0.003006  0.989408  \n",
       "1    3675.396481     459.247759    Italia   0.01511  0.946791  "
      ]
     },
     "execution_count": 15,
     "metadata": {},
     "output_type": "execute_result"
    }
   ],
   "source": [
    "corr.head(4)"
   ]
  },
  {
   "cell_type": "code",
   "execution_count": 16,
   "id": "f78d6907",
   "metadata": {},
   "outputs": [
    {
     "data": {
      "text/html": [
       "<div>\n",
       "<style scoped>\n",
       "    .dataframe tbody tr th:only-of-type {\n",
       "        vertical-align: middle;\n",
       "    }\n",
       "\n",
       "    .dataframe tbody tr th {\n",
       "        vertical-align: top;\n",
       "    }\n",
       "\n",
       "    .dataframe thead th {\n",
       "        text-align: right;\n",
       "    }\n",
       "</style>\n",
       "<table border=\"1\" class=\"dataframe\">\n",
       "  <thead>\n",
       "    <tr style=\"text-align: right;\">\n",
       "      <th></th>\n",
       "      <th>country</th>\n",
       "      <th>year</th>\n",
       "      <th>yearly_sum</th>\n",
       "      <th>production [1000t]</th>\n",
       "      <th>detrend</th>\n",
       "      <th>zdetrend</th>\n",
       "      <th>fit</th>\n",
       "      <th>grenze_starkregen</th>\n",
       "    </tr>\n",
       "  </thead>\n",
       "  <tbody>\n",
       "    <tr>\n",
       "      <th>0</th>\n",
       "      <td>España</td>\n",
       "      <td>2010</td>\n",
       "      <td>14.265255</td>\n",
       "      <td>6039.89</td>\n",
       "      <td>2729.036136</td>\n",
       "      <td>0.971548</td>\n",
       "      <td>3310.853864</td>\n",
       "      <td>2.0</td>\n",
       "    </tr>\n",
       "    <tr>\n",
       "      <th>1</th>\n",
       "      <td>España</td>\n",
       "      <td>2010</td>\n",
       "      <td>14.265255</td>\n",
       "      <td>507.49</td>\n",
       "      <td>-2803.363864</td>\n",
       "      <td>-0.998009</td>\n",
       "      <td>3310.853864</td>\n",
       "      <td>2.0</td>\n",
       "    </tr>\n",
       "    <tr>\n",
       "      <th>2</th>\n",
       "      <td>España</td>\n",
       "      <td>2011</td>\n",
       "      <td>10.303402</td>\n",
       "      <td>5985.49</td>\n",
       "      <td>2674.559636</td>\n",
       "      <td>0.952154</td>\n",
       "      <td>3310.930364</td>\n",
       "      <td>2.0</td>\n",
       "    </tr>\n",
       "    <tr>\n",
       "      <th>3</th>\n",
       "      <td>España</td>\n",
       "      <td>2011</td>\n",
       "      <td>10.303402</td>\n",
       "      <td>520.29</td>\n",
       "      <td>-2790.640364</td>\n",
       "      <td>-0.993479</td>\n",
       "      <td>3310.930364</td>\n",
       "      <td>2.0</td>\n",
       "    </tr>\n",
       "  </tbody>\n",
       "</table>\n",
       "</div>"
      ],
      "text/plain": [
       "  country  year yearly_sum production [1000t]      detrend  zdetrend  \\\n",
       "0  España  2010  14.265255            6039.89  2729.036136  0.971548   \n",
       "1  España  2010  14.265255             507.49 -2803.363864 -0.998009   \n",
       "2  España  2011  10.303402            5985.49  2674.559636  0.952154   \n",
       "3  España  2011  10.303402             520.29 -2790.640364 -0.993479   \n",
       "\n",
       "           fit grenze_starkregen  \n",
       "0  3310.853864               2.0  \n",
       "1  3310.853864               2.0  \n",
       "2  3310.930364               2.0  \n",
       "3  3310.930364               2.0  "
      ]
     },
     "execution_count": 16,
     "metadata": {},
     "output_type": "execute_result"
    }
   ],
   "source": [
    "yearly_vals.head(4)"
   ]
  },
  {
   "cell_type": "markdown",
   "id": "7cf20d21",
   "metadata": {},
   "source": [
    "# Plots Erstellung"
   ]
  },
  {
   "cell_type": "code",
   "execution_count": 17,
   "id": "37e2989f",
   "metadata": {},
   "outputs": [],
   "source": [
    "# make dataframe interactive\n",
    "i_corr = corr.interactive()\n",
    "\n",
    "yearly_vals['Agriculture_zdetrend'] = yearly_vals.zdetrend\n",
    "yearly_vals['Rainfall_Magnitude'] = yearly_vals.yearly_sum\n",
    "i_yearly_vals = yearly_vals.interactive()\n",
    "\n",
    "yearly_vals2 = yearly_vals[yearly_vals.grenze_starkregen == 2.0]\n",
    "yearly_vals2 = yearly_vals2.copy()\n",
    "yearly_vals2['Produktion z(detrend)'] = 0\n",
    "i_yearly_vals2 = yearly_vals2.interactive()\n",
    "\n",
    "i_rain = rainflux_z.interactive()\n",
    "i_agriculture = agriculture_z.drop(columns = ['detrend', 'zdetrend']).interactive()"
   ]
  },
  {
   "cell_type": "code",
   "execution_count": 18,
   "id": "979cc6a3",
   "metadata": {},
   "outputs": [],
   "source": [
    "# generate data pipeline\n",
    "corr_pipeline = (\n",
    "    i_corr[ \n",
    "        (i_corr.country.isin(multi_country_selector))\n",
    "    ]\n",
    "    .sort_values(by='grenze_starkregen')  \n",
    "    .reset_index(drop=True)\n",
    ")\n",
    "\n",
    "vals_pipeline = (\n",
    "    i_yearly_vals[ \n",
    "        (i_yearly_vals.grenze_starkregen == grenze_slider) &\n",
    "        (i_yearly_vals.year.astype('int') == year_slider)\n",
    "    ])\n",
    "\n",
    "vals2_pipeline = (\n",
    "    i_yearly_vals2[ \n",
    "        (i_yearly_vals2.country.isin(multi_country_selector))\n",
    "    ])\n",
    "\n",
    "#rain_pipeline = (\n",
    "#    i_rain[ \n",
    "#        (i_rain.country.isin(multi_country_selector))\n",
    "#    ])\n",
    "agriculture_pipeline = (\n",
    "    i_agriculture[\n",
    "        (i_agriculture.year.astype('int') >= start_year_slider) & \n",
    "        (i_agriculture.year.astype('int') <= end_year_slider) & \n",
    "        (i_agriculture.country.isin(multi_country_selector2))\n",
    "    ]\n",
    "    .reset_index()\n",
    "    .sort_values(by='year')  \n",
    "    .reset_index(drop=True)\n",
    ")\n",
    "\n",
    "rain_pipeline_yearly = (\n",
    "    i_rain[\n",
    "        (i_rain.year >= start_year_slider) & \n",
    "        (i_rain.year <= end_year_slider) & \n",
    "        (i_rain.country.isin(multi_country_selector2))\n",
    "    ]\n",
    "    .groupby(['country', 'year']).measurement.sum()\n",
    "    .to_frame()\n",
    "    .reset_index()\n",
    "    .sort_values(by='year')  \n",
    "    .reset_index(drop=True)\n",
    ")"
   ]
  },
  {
   "cell_type": "code",
   "execution_count": 19,
   "id": "89fcc763",
   "metadata": {},
   "outputs": [
    {
     "data": {
      "application/vnd.jupyter.widget-view+json": {
       "model_id": "09ee1c5df5894460ae102963f990be81",
       "version_major": 2,
       "version_minor": 0
      },
      "text/plain": [
       "BokehModel(combine_events=True, render_bundle={'docs_json': {'a3bfaa79-0061-439f-b15f-890f354f1940': {'defs': …"
      ]
     },
     "metadata": {},
     "output_type": "display_data"
    },
    {
     "data": {
      "text/html": [
       "<div style=\"display: none\"></div>"
      ],
      "text/plain": [
       "<hvplot.interactive.Interactive at 0x339a3fd00>"
      ]
     },
     "execution_count": 19,
     "metadata": {},
     "output_type": "execute_result"
    }
   ],
   "source": [
    "plot1 = corr_pipeline.hvplot(   x = 'grenze_starkregen', \n",
    "                                y = 'avg_Starkregen',\n",
    "                                by = 'country', \n",
    "                                line_width = 2, \n",
    "                                title = \"Einfluss Grenze(z) auf durchschnittlicher Starkregenfall\",\n",
    "                                ylabel= 'Durchschnittlicher Starkregen',\n",
    "                                xlabel= 'Grenze Starkregen(z)')\n",
    "plot1"
   ]
  },
  {
   "cell_type": "code",
   "execution_count": 20,
   "id": "9b0dd7d2",
   "metadata": {},
   "outputs": [
    {
     "data": {
      "application/vnd.jupyter.widget-view+json": {
       "model_id": "1f1cc3fda12a4ac1b45ffd789f9dd947",
       "version_major": 2,
       "version_minor": 0
      },
      "text/plain": [
       "BokehModel(combine_events=True, render_bundle={'docs_json': {'c0048f01-3c2d-4816-8e71-280e9a367895': {'defs': …"
      ]
     },
     "metadata": {},
     "output_type": "display_data"
    },
    {
     "data": {
      "text/html": [
       "<div style=\"display: none\"></div>"
      ],
      "text/plain": [
       "<hvplot.interactive.Interactive at 0x339a48d30>"
      ]
     },
     "execution_count": 20,
     "metadata": {},
     "output_type": "execute_result"
    }
   ],
   "source": [
    "plot2 = corr_pipeline.hvplot(   x = 'grenze_starkregen', \n",
    "                                y = 'max_Starkregen',\n",
    "                                by = 'country', \n",
    "                                line_width = 2, \n",
    "                                title = \"Einfluss Grenze(z) auf maximalen Starkregenfall\",\n",
    "                                ylabel= 'Maximaler Starkregen',\n",
    "                                xlabel= 'Grenze Starkregen(z)')\n",
    "plot2"
   ]
  },
  {
   "cell_type": "code",
   "execution_count": 21,
   "id": "1e406172",
   "metadata": {},
   "outputs": [
    {
     "data": {
      "application/vnd.jupyter.widget-view+json": {
       "model_id": "b2c371e263e942f7b4876cc6e2b40de3",
       "version_major": 2,
       "version_minor": 0
      },
      "text/plain": [
       "BokehModel(combine_events=True, render_bundle={'docs_json': {'ae0abb5b-69b2-4b16-b4fa-713052ba5eb8': {'defs': …"
      ]
     },
     "metadata": {},
     "output_type": "display_data"
    },
    {
     "data": {
      "text/html": [
       "<div style=\"display: none\"></div>"
      ],
      "text/plain": [
       "<hvplot.interactive.Interactive at 0x33d2907f0>"
      ]
     },
     "execution_count": 21,
     "metadata": {},
     "output_type": "execute_result"
    }
   ],
   "source": [
    "plot3 = corr_pipeline.hvplot(   x = 'grenze_starkregen', \n",
    "                                y = 'min_Starkregen',\n",
    "                                by = 'country', \n",
    "                                line_width = 2, \n",
    "                                title = \"Einfluss Grenze(z) auf minimalen Starkregenfall\",\n",
    "                                ylabel= 'Einheit [mm/day]',\n",
    "                                xlabel= 'Grenze Starkregen [z]')\n",
    "plot3"
   ]
  },
  {
   "cell_type": "code",
   "execution_count": 22,
   "id": "8913b264",
   "metadata": {},
   "outputs": [
    {
     "data": {
      "application/vnd.jupyter.widget-view+json": {
       "model_id": "3284f18d5f4544b89b91ce9880a63a79",
       "version_major": 2,
       "version_minor": 0
      },
      "text/plain": [
       "BokehModel(combine_events=True, render_bundle={'docs_json': {'4f654f56-38da-414d-b64b-32df483b4f65': {'defs': …"
      ]
     },
     "metadata": {},
     "output_type": "display_data"
    },
    {
     "data": {
      "text/html": [
       "<div style=\"display: none\"></div>"
      ],
      "text/plain": [
       "<hvplot.interactive.Interactive at 0x1770906d0>"
      ]
     },
     "execution_count": 22,
     "metadata": {},
     "output_type": "execute_result"
    }
   ],
   "source": [
    "plot4 = corr_pipeline.hvplot(   x = 'grenze_starkregen', \n",
    "                                y = '%-Strakregen',\n",
    "                                by = 'country', \n",
    "                                line_width = 2, \n",
    "                                title = \"Einfluss Grenze(z) auf %-Anteil Starkregenfälle\")\n",
    "plot4"
   ]
  },
  {
   "cell_type": "code",
   "execution_count": 23,
   "id": "63681b00",
   "metadata": {},
   "outputs": [
    {
     "data": {
      "application/vnd.jupyter.widget-view+json": {
       "model_id": "afd0da32664c46da89c72514a677e757",
       "version_major": 2,
       "version_minor": 0
      },
      "text/plain": [
       "BokehModel(combine_events=True, render_bundle={'docs_json': {'a142ead0-3eb4-469d-bb7f-6bd56fa894d7': {'defs': …"
      ]
     },
     "metadata": {},
     "output_type": "display_data"
    },
    {
     "data": {
      "text/html": [
       "<div style=\"display: none\"></div>"
      ],
      "text/plain": [
       "<hvplot.interactive.Interactive at 0x281dd39a0>"
      ]
     },
     "execution_count": 23,
     "metadata": {},
     "output_type": "execute_result"
    }
   ],
   "source": [
    "plot5 = corr_pipeline.hvplot(   x = 'grenze_starkregen', \n",
    "                                y = 'Starkregen Anzahl',\n",
    "                                by = 'country', \n",
    "                                line_width = 2, \n",
    "                                title = \"Einfluss Grenze(z) auf Anzahl Starkregenfälle\")\n",
    "plot5"
   ]
  },
  {
   "cell_type": "code",
   "execution_count": 24,
   "id": "11d55478",
   "metadata": {},
   "outputs": [
    {
     "data": {
      "application/vnd.jupyter.widget-view+json": {
       "model_id": "e12a4bd4645c45808b39358758c45a51",
       "version_major": 2,
       "version_minor": 0
      },
      "text/plain": [
       "BokehModel(combine_events=True, render_bundle={'docs_json': {'7f7388ad-fe12-4f85-80ea-dbf126f8defd': {'defs': …"
      ]
     },
     "metadata": {},
     "output_type": "display_data"
    },
    {
     "data": {
      "text/html": [
       "<div style=\"display: none\"></div>"
      ],
      "text/plain": [
       "<hvplot.interactive.Interactive at 0x281dd3fa0>"
      ]
     },
     "execution_count": 24,
     "metadata": {},
     "output_type": "execute_result"
    }
   ],
   "source": [
    "plot6 = corr_pipeline.hvplot(   x = 'grenze_starkregen', \n",
    "                                y = 'r-value',\n",
    "                                by = 'country', \n",
    "                                line_width = 2, \n",
    "                                title = \"Einfluss Grenze(z) auf Korrelation Starkregenfälle zu Agrikultur (r-value)\",\n",
    "                                ylabel= 'R-Wert',\n",
    "                                xlabel= 'Grenze Starkregen(z)')\n",
    "plot6"
   ]
  },
  {
   "cell_type": "code",
   "execution_count": 25,
   "id": "52a1c110",
   "metadata": {},
   "outputs": [
    {
     "data": {
      "application/vnd.jupyter.widget-view+json": {
       "model_id": "3a2462d7192a45f78050295f4d9b1038",
       "version_major": 2,
       "version_minor": 0
      },
      "text/plain": [
       "BokehModel(combine_events=True, render_bundle={'docs_json': {'8bb1cf5b-7936-436f-a4df-fd4585a042ab': {'defs': …"
      ]
     },
     "metadata": {},
     "output_type": "display_data"
    },
    {
     "data": {
      "text/html": [
       "<div style=\"display: none\"></div>"
      ],
      "text/plain": [
       "<hvplot.interactive.Interactive at 0x281fb91c0>"
      ]
     },
     "execution_count": 25,
     "metadata": {},
     "output_type": "execute_result"
    }
   ],
   "source": [
    "plot7 = vals2_pipeline.hvplot(  x = 'year', \n",
    "                                y = 'production [1000t]',\n",
    "                                by = 'country', \n",
    "                                line_width = 2, \n",
    "                                title = \"Produktion über Jahre mit Trend (lineare Regression)\",\n",
    "                                ylabel= 'Produktion[1000t]',\n",
    "                                xlabel= '')\n",
    "plot7"
   ]
  },
  {
   "cell_type": "code",
   "execution_count": 26,
   "id": "89b95195",
   "metadata": {},
   "outputs": [
    {
     "data": {
      "application/vnd.jupyter.widget-view+json": {
       "model_id": "d6c21e6ef7a145c1be9bd3f80fee299c",
       "version_major": 2,
       "version_minor": 0
      },
      "text/plain": [
       "BokehModel(combine_events=True, render_bundle={'docs_json': {'d6411ada-6faf-43f7-8443-b7b65ff2f081': {'defs': …"
      ]
     },
     "metadata": {},
     "output_type": "display_data"
    },
    {
     "data": {
      "text/html": [
       "<div style=\"display: none\"></div>"
      ],
      "text/plain": [
       "<hvplot.interactive.Interactive at 0x28206bc40>"
      ]
     },
     "execution_count": 26,
     "metadata": {},
     "output_type": "execute_result"
    }
   ],
   "source": [
    "plot8 = vals2_pipeline.hvplot(  x = 'year', \n",
    "                                y = 'fit',\n",
    "                                by = 'country', \n",
    "                                line_width = 2, \n",
    "                                title = \"Produktion über Jahre mit Trend (lineare Regression)\",\n",
    "                                ylabel= 'Trend der Produktion',\n",
    "                                xlabel= '')\n",
    "plot8"
   ]
  },
  {
   "cell_type": "code",
   "execution_count": 27,
   "id": "5e70ceb7",
   "metadata": {},
   "outputs": [
    {
     "data": {
      "application/vnd.jupyter.widget-view+json": {
       "model_id": "afbd3a1349b642978e08bdf8e2a45e75",
       "version_major": 2,
       "version_minor": 0
      },
      "text/plain": [
       "BokehModel(combine_events=True, render_bundle={'docs_json': {'62f9a9e1-6865-482b-a32f-2732212e9aaf': {'defs': …"
      ]
     },
     "metadata": {},
     "output_type": "display_data"
    },
    {
     "data": {
      "text/html": [
       "<div style=\"display: none\"></div>"
      ],
      "text/plain": [
       "<hvplot.interactive.Interactive at 0x30b55ec40>"
      ]
     },
     "execution_count": 27,
     "metadata": {},
     "output_type": "execute_result"
    }
   ],
   "source": [
    "plot9 = vals2_pipeline.hvplot(  x = 'year', \n",
    "                                y = 'zdetrend',\n",
    "                                by = 'country', \n",
    "                                line_width = 2, \n",
    "                                title = \"Produktion über Jahre z-standardiesiert, detrendet\",\n",
    "                                ylabel= 'Z-Detrend',\n",
    "                                xlabel= '')\n",
    "plot9"
   ]
  },
  {
   "cell_type": "code",
   "execution_count": 28,
   "id": "46bd9266",
   "metadata": {},
   "outputs": [
    {
     "data": {
      "application/vnd.jupyter.widget-view+json": {
       "model_id": "b0e58c8b656c4b8891e94c028f1a3ac8",
       "version_major": 2,
       "version_minor": 0
      },
      "text/plain": [
       "BokehModel(combine_events=True, render_bundle={'docs_json': {'08a3e095-7e71-4eb0-affa-55daec094530': {'defs': …"
      ]
     },
     "metadata": {},
     "output_type": "display_data"
    },
    {
     "data": {
      "text/html": [
       "<div style=\"display: none\"></div>"
      ],
      "text/plain": [
       "<hvplot.interactive.Interactive at 0x282fd18b0>"
      ]
     },
     "execution_count": 28,
     "metadata": {},
     "output_type": "execute_result"
    }
   ],
   "source": [
    "plot10 = vals2_pipeline.hvplot(  x = 'year', \n",
    "                                y = 'Produktion z(detrend)',\n",
    "                                by = 'country', \n",
    "                                line_width = 2, \n",
    "                                title = \"Produktion über Jahre z-standardiesiert, detrendet\",\n",
    "                                ylabel= 'Produktion detrendet',\n",
    "                                xlabel= '')\n",
    "plot10"
   ]
  },
  {
   "cell_type": "code",
   "execution_count": 29,
   "id": "5e2bfe54",
   "metadata": {},
   "outputs": [
    {
     "data": {
      "application/vnd.jupyter.widget-view+json": {
       "model_id": "b98acd9587b84853946654cc77fb765a",
       "version_major": 2,
       "version_minor": 0
      },
      "text/plain": [
       "BokehModel(combine_events=True, render_bundle={'docs_json': {'4e00919e-4620-4b4d-bd76-8c12d075ee5c': {'defs': …"
      ]
     },
     "metadata": {},
     "output_type": "display_data"
    },
    {
     "data": {
      "text/html": [
       "<div style=\"display: none\"></div>"
      ],
      "text/plain": [
       "<hvplot.interactive.Interactive at 0x28206bd60>"
      ]
     },
     "execution_count": 29,
     "metadata": {},
     "output_type": "execute_result"
    }
   ],
   "source": [
    "plot11 = vals_pipeline.hvplot( x = 'country', \n",
    "                                y = radio_group,\n",
    "                                line_width = 2,\n",
    "                                kind = 'bar', \n",
    "                                title = \"Plot für Karte\") \n",
    "plot11"
   ]
  },
  {
   "cell_type": "code",
   "execution_count": 30,
   "id": "30c187f2",
   "metadata": {},
   "outputs": [
    {
     "data": {
      "application/vnd.jupyter.widget-view+json": {
       "model_id": "dbfbc6f37f9e4dd99613cdb606f13e26",
       "version_major": 2,
       "version_minor": 0
      },
      "text/plain": [
       "BokehModel(combine_events=True, render_bundle={'docs_json': {'ee36d9e2-a391-4f28-a8cd-2a6903c40063': {'defs': …"
      ]
     },
     "metadata": {},
     "output_type": "display_data"
    },
    {
     "data": {
      "text/html": [
       "<div style=\"display: none\"></div>"
      ],
      "text/plain": [
       "<hvplot.interactive.Interactive at 0x285bbf8b0>"
      ]
     },
     "execution_count": 30,
     "metadata": {},
     "output_type": "execute_result"
    }
   ],
   "source": [
    "plot12 = vals2_pipeline.hvplot( x = 'year', \n",
    "                                y = 'yearly_sum',\n",
    "                                by = 'country',\n",
    "                                ylabel= 'Magnitude',\n",
    "                                line_width = 2,\n",
    "                                title = \"Starkregen Magnitude pro Jahr\") \n",
    "plot12"
   ]
  },
  {
   "cell_type": "code",
   "execution_count": 31,
   "id": "c49a7d9a",
   "metadata": {},
   "outputs": [
    {
     "data": {
      "application/vnd.jupyter.widget-view+json": {
       "model_id": "f999cb2a51124f19b606318780ee5c9a",
       "version_major": 2,
       "version_minor": 0
      },
      "text/plain": [
       "BokehModel(combine_events=True, render_bundle={'docs_json': {'cd214acf-97fa-4b5a-baa5-7c2a26e959cd': {'defs': …"
      ]
     },
     "metadata": {},
     "output_type": "display_data"
    },
    {
     "data": {
      "text/html": [
       "<div style=\"display: none\"></div>"
      ],
      "text/plain": [
       "<hvplot.interactive.Interactive at 0x285ca7910>"
      ]
     },
     "execution_count": 31,
     "metadata": {},
     "output_type": "execute_result"
    }
   ],
   "source": [
    "agriculture_plot = agriculture_pipeline.hvplot(  x = 'year', \n",
    "                                        y='production [1000t]',\n",
    "                                        by='country', \n",
    "                                        line_width=2, \n",
    "                                        title=\"Landwirtschaftsertrag pro Jahr\",\n",
    "                                        ylabel= 'Produktion [1000t]',\n",
    "                                        xlabel= '').opts(xrotation = 35)\n",
    "agriculture_plot"
   ]
  },
  {
   "cell_type": "code",
   "execution_count": 32,
   "id": "893cb6d0",
   "metadata": {},
   "outputs": [
    {
     "data": {
      "application/vnd.jupyter.widget-view+json": {
       "model_id": "fc4a6b9ac1b244938e69c5af9bbcbfff",
       "version_major": 2,
       "version_minor": 0
      },
      "text/plain": [
       "BokehModel(combine_events=True, render_bundle={'docs_json': {'e5fd1d41-81a4-47f4-b1da-223b87c7b13c': {'defs': …"
      ]
     },
     "metadata": {},
     "output_type": "display_data"
    },
    {
     "data": {
      "text/html": [
       "<div style=\"display: none\"></div>"
      ],
      "text/plain": [
       "<hvplot.interactive.Interactive at 0x28309d3a0>"
      ]
     },
     "execution_count": 32,
     "metadata": {},
     "output_type": "execute_result"
    }
   ],
   "source": [
    "rain_plot = rain_pipeline_yearly.hvplot(  x = 'year', \n",
    "                                        y='measurement',\n",
    "                                        by='country', \n",
    "                                        line_width=2, \n",
    "                                        title=\"Regenrate pro Jahr\",\n",
    "                                        ylabel= 'Einheit [kg2/m2/s]',\n",
    "                                        xlabel= '')\n",
    "rain_plot"
   ]
  },
  {
   "cell_type": "markdown",
   "id": "aaf65262",
   "metadata": {},
   "source": [
    "# Datastory"
   ]
  },
  {
   "cell_type": "code",
   "execution_count": 33,
   "id": "b44aaaeb",
   "metadata": {},
   "outputs": [],
   "source": [
    "width = 900\n",
    "\n",
    "def textblock(text, title = \"\", subtitle = \"\"):\n",
    "    return (\n",
    "        f\"\"\"\n",
    "        \\n### {title}\n",
    "        \\n#### {subtitle}\n",
    "        \\n {text}\n",
    "        \"\"\"\n",
    "    )"
   ]
  },
  {
   "cell_type": "markdown",
   "id": "e93f5fa0",
   "metadata": {},
   "source": [
    "#### Folgen Ackerbau"
   ]
  },
  {
   "cell_type": "code",
   "execution_count": 34,
   "id": "7865b15e",
   "metadata": {
    "scrolled": true
   },
   "outputs": [
    {
     "data": {
      "application/vnd.jupyter.widget-view+json": {
       "model_id": "6f29f1e859cc4ad3bca4b537dc98a712",
       "version_major": 2,
       "version_minor": 0
      },
      "text/plain": [
       "BokehModel(combine_events=True, render_bundle={'docs_json': {'02ee3f00-0f04-4dcb-b0df-9a8e41c76ef3': {'defs': …"
      ]
     },
     "metadata": {},
     "output_type": "display_data"
    },
    {
     "data": {
      "text/html": [
       "<div style=\"display: none\"></div>"
      ],
      "text/plain": [
       "Card(background='WhiteSmoke', min_width=900, sizing_mode='stretch_both', title='Folgen von Starkregen a...)\n",
       "    [0] Markdown(str)\n",
       "    [1] Markdown(str)\n",
       "    [2] Markdown(str)\n",
       "    [3] Markdown(str)"
      ]
     },
     "execution_count": 34,
     "metadata": {},
     "output_type": "execute_result"
    }
   ],
   "source": [
    "# Folgen von Starkregen auf den Ackerbau\n",
    "folgen_ackerbau_0 = textblock(\n",
    "    title = \"\",\n",
    "    subtitle = \"\",\n",
    "    text = \"\"\"Starkregen kann verehrende folgen auf die Landwirtschaft haben. In den folgenden Kapiteln sind ein paar Beispiele beschrieben. Um diesen Einfluss zu untersuchen haben wir den Einfluss von Starkregen auf die Landwirtschaftsproduktion untersucht.\n",
    "\"\"\")\n",
    "folgen_ackerbau_1 = textblock(\n",
    "    title = \"Reifes Getreide wird zerstört\",\n",
    "    subtitle = \"\",\n",
    "    text = \"\"\"Enormer Regen kann für reife Getreidefelder sehr ungünstig werden. Durch grosse Niederschlagsmengen knickt der Grossteil des Getreides ab, da es auf den Boden gedrückt wird. Durch dieses Geschehen wird der weitere Reifungsprozess stark verlangsamt. Nebenbei wir die Ernte mit dem Mähdrescher erschwert und der Pilzbefall am Korn gefördert. Folgen davon sind klar, Qualitäts- und Ertragsverluste.\n",
    "\"\"\")\n",
    "folgen_ackerbau_2 = textblock(\n",
    "    title = \"Pfützen und Pflanzen\",\n",
    "    subtitle = \"\",\n",
    "    text = \"\"\"Die folgen von Starkregen sind pro Jahreszeit unterschiedlich. Beziehen wir uns auf das Frühjahr, wo die Pflanzen noch gering entwickelt sind. Starkregen kann hierbei die Bodenstruktur beschädigen. Vor allem betroffen sind Ton und Lehmböden. Die übermässig aufprallenden Tropfen sorgen dafür, dass der Boden verschlämmt. Sobald der Boden verschlammt ist, kann er nur noch eine geringe Menge an Wasser aufnehmen. Hört der Regen hier nicht auf, werden Pfützen gebildet. Anhand dieser Pfützen erhalten die Pflanzenwurzeln nicht mehr genügen Luft. Dies führt zum Absterben dieser. Nebenbei fangen durch Pfützen Pflanzenteile an zu faulen. Konsequenzen davon sind massive Ernteausfälle.\n",
    "\"\"\")\n",
    "folgen_ackerbau_3 = textblock(\n",
    "    title = \"Schutz vom Boden\",\n",
    "    subtitle = \"\",\n",
    "    text = \"\"\"Viele Schutzmöglichkeiten für die Landwirte gibt es leider nicht. Eine Option wäre es, sich gegen Ernteausfälle zu Versichern. Weiter könnte man den Acker schützen indem man das Feld mit organischem Material. Damit ist in etwa Stallmist oder Kompost gemeint. Dadurch kann der Boden die Wasserspeicherfähigkeit erhöhen.\n",
    "\"\"\")\n",
    "\n",
    "\n",
    "card1 = pn.Card(    folgen_ackerbau_0,\n",
    "                    folgen_ackerbau_1,\n",
    "                    folgen_ackerbau_2,\n",
    "                    folgen_ackerbau_3,\n",
    "\n",
    "                    title='Folgen von Starkregen auf den Ackerbau', \n",
    "                    background='WhiteSmoke', \n",
    "                    sizing_mode='stretch_both', \n",
    "                    min_width = 900, margin=5)\n",
    "card1"
   ]
  },
  {
   "cell_type": "markdown",
   "id": "5347f697",
   "metadata": {},
   "source": [
    "#### Landwirtschaft"
   ]
  },
  {
   "cell_type": "code",
   "execution_count": 35,
   "id": "cafc2d9f",
   "metadata": {
    "scrolled": true
   },
   "outputs": [
    {
     "data": {
      "application/vnd.jupyter.widget-view+json": {
       "model_id": "6fe6cad0163b41d8a635e402ce69cd97",
       "version_major": 2,
       "version_minor": 0
      },
      "text/plain": [
       "BokehModel(combine_events=True, render_bundle={'docs_json': {'0ef36558-0614-43e3-a5ef-f49ada8463db': {'defs': …"
      ]
     },
     "metadata": {},
     "output_type": "display_data"
    },
    {
     "data": {
      "text/html": [
       "<div style=\"display: none\"></div>"
      ],
      "text/plain": [
       "Card(background='WhiteSmoke', min_width=900, sizing_mode='stretch_both', title='Aufbereitung L...)\n",
       "    [0] Markdown(str)\n",
       "    [1] ParamFunction(function, width=900)\n",
       "    [2] ParamFunction(function, width=900)"
      ]
     },
     "execution_count": 35,
     "metadata": {},
     "output_type": "execute_result"
    }
   ],
   "source": [
    "# Landwirtschaft\n",
    "landwirtschaft_1 = textblock(\n",
    "    title = \"\",\n",
    "    subtitle = \"\",\n",
    "    text = \"\"\"Bei unseren Landwirtschaftsdaten haben wir bemerkt, dass diese üblicherweise einem Trend folgen (siehe rechts im Bild). Dieser könnte durch eine oder mehrere der folgenden Variablen verursacht werden:\n",
    "\\n•\tPolitische Entscheide \n",
    "\\n•\tTechnischer Fortschritt in der Landwirtschaft\n",
    "\\n•\tVerlagerung von Landwirtschaftsproduktion aufgrund von Globalisierung\n",
    "\\nDieser Trend beeinflusst unsere Landwirtschaftsdaten und ist somit eine Störgrösse bei unserer Zusammenhangsanalyse, welche wir später durchführen wollen. Um diesen Trend zu eliminieren haben wir eine Lineare Gerade auf die Landwirtschaftsdaten gefittet. Anschliessend haben wir die Residuen ausgerechnet und diese später für die Zusammenhangsanalyse verwendet. Die Residuen sind die Grösse dafür, wie stark ein Jahr vom Langzeit-Trend abweicht. Also können wir anhand dieser bestimmen ob ein Jahr speziell gut oder schlecht war im Vergleich zum Trend. Schlussendlich haben wir diese Residuen z-standardisiert, so dass wir später bei unserer Korrelationsanalyse nicht nur einzelne Länder auf Korrelation überprüfen können, sondern alle Daten von allen Ländern in einer gemeinsamen Analyse verwenden können (Somit wird die Signifikanz verbessert durch eine grössere Stichprobengrösse). In den folgenden zwei Plots ist dargestellt, wie die Gerade auf die Landwirftschaftsdaten gefittet wird und im zweiten Plot wie die z-standardisierten Residuen dazu aussehen. Wie schon bei der Einleitung erwähnt, hast du links in der Sidebar unter Einstellungen, die Möglichkeit zusätzliche Länder einzublenden.\n",
    "\n",
    "    \n",
    "\"\"\"\n",
    ")\n",
    "\n",
    "card3= pn.Card(     landwirtschaft_1, \n",
    "                    (plot8*plot7).panel(width=width), \n",
    "                    (plot10*plot9).panel(width=width),\n",
    "                    title='Aufbereitung Landwirftschaftsdaten', \n",
    "                    background='WhiteSmoke', \n",
    "                    sizing_mode='stretch_both', \n",
    "                    min_width = 900, margin=5)\n",
    "card3"
   ]
  },
  {
   "cell_type": "markdown",
   "id": "9091ce2e",
   "metadata": {},
   "source": [
    "#### Definition Starkregen"
   ]
  },
  {
   "cell_type": "code",
   "execution_count": 36,
   "id": "c2406c1f",
   "metadata": {
    "scrolled": true
   },
   "outputs": [
    {
     "data": {
      "application/vnd.jupyter.widget-view+json": {
       "model_id": "d2ec543a75224fbd935e264531c55fcc",
       "version_major": 2,
       "version_minor": 0
      },
      "text/plain": [
       "BokehModel(combine_events=True, render_bundle={'docs_json': {'6c3e7cf1-121b-42b6-b00d-d88860f6df85': {'defs': …"
      ]
     },
     "metadata": {},
     "output_type": "display_data"
    },
    {
     "data": {
      "text/html": [
       "<div style=\"display: none\"></div>"
      ],
      "text/plain": [
       "Card(background='WhiteSmoke', min_width=900, sizing_mode='stretch_both', title='Definition Starkregen')\n",
       "    [0] Markdown(str)\n",
       "    [1] Markdown(str)\n",
       "    [2] Markdown(str)\n",
       "    [3] PNG(str, height=300, max_width=500, sizing_mode='scale_width')\n",
       "    [4] Markdown(str)\n",
       "    [5] Markdown(str)\n",
       "    [6] PNG(str, height=300, max_width=400, sizing_mode='scale_width')\n",
       "    [7] Markdown(str)\n",
       "    [8] PNG(str, height=300, max_width=200, sizing_mode='scale_width')\n",
       "    [9] Markdown(str)\n",
       "    [10] ParamFunction(function, width=900)\n",
       "    [11] Markdown(str)\n",
       "    [12] ParamFunction(function, width=900)\n",
       "    [13] ParamFunction(function, width=900)\n",
       "    [14] ParamFunction(function, width=900)"
      ]
     },
     "execution_count": 36,
     "metadata": {},
     "output_type": "execute_result"
    }
   ],
   "source": [
    "# Definition Starkregen\n",
    "definition_starkregen_1 = textblock(\n",
    "    title = \"\",\n",
    "    subtitle = \"\",\n",
    "    text = \"\"\"Wir wollten in dieser Challenge die Auswirkung von Extremereignissen auf die Landwirtschaftliche Produktion untersuchen. Dabei hatten wir zwei Probleme mit der Definition vom Starkregen, welche in den folgenden Kapiteln beschreiben sind:\n",
    "\\n•\tEigentliche Definition eines Extremereignisses\n",
    "\\n•\tAuslösung der Daten\n",
    "\"\"\")\n",
    "definition_starkregen_2 = textblock(\n",
    "    title = \"Problem Definition Extremereignis\",\n",
    "    subtitle = \"\",\n",
    "    text = \"\"\"Wir haben im Internet nach einer für uns geeigneten Definition von Starkregen gesucht. Folgendes war uns dabei wichtig:\n",
    "\\n•\tEs muss eine Magnitude berechnet werden, also einen idealerweise metrischen Wert, welcher angibt, wie stark der Starkregen war. Dies brauchen wir, damit wir später den Starkregen auf Korrelation mit den Landwirtschaftsdaten überprüfen können.\n",
    "\\n•\tEs muss eine örtliche Abhängigkeit gegeben sein. Dies weil Starkregen nicht universell mit einer festen Grenze definiert werden kann. Z.B: regnet es in England viel häufiger und schwerer als in einem wärmeren Land, wie z.B. Portugal.\n",
    "\\n•\tEs muss eine zeitliche Abhängigkeit gegeben sein. Dies weil es in vielen Regionen z.B: im Herbst viel mehr regnet als im Sommer, oder z.B. in Valencia einen Jährlichen Starkregen gibt, welcher immer ca. zur gleichen Zeit eintritt. Das Ereignis ist dann zwar ein Starkregen, für uns jedoch eine Störgrösse, weil das Ereignis Jährlich wiederkehrend ist und somit immer den gleichen Einfluss auf die Agrikultur hat.\n",
    "\\nIm Internet haben wir keine für uns passende Skala gefunden. Jedes Land hat eigene Grenzen festgelegt, ab wann die Regenfälle als Starkregen gelten. Wir mussten also eine eigene Definition finden.\n",
    "\"\"\")\n",
    "definition_starkregen_3 = textblock(\n",
    "    title = \"Problem Auflösung der Daten\",\n",
    "    subtitle = \"\",\n",
    "    text = \"Zudem hatten wir das Problem, dass unsere Rohdaten vom Starkregen nicht direkt vergleichbar waren mit den Werten von der Agrikultur. Dies hing davon ab, dass unsere Regendaten viel höherer aufgelöst waren als unsere Agrikulturwerte:\"\n",
    ")\n",
    "definition_starkregen_4 = textblock(\n",
    "    title = \"\",\n",
    "    subtitle = \"\",\n",
    "    text = \"Wir mussten also auch beachten, dass bei unserer Definition von Starkregen ein Jahreswert entsteht, welcher in der gleichen Auflösung vorliegt wie die Agrikulturwerte, so dass wir diese vergleichen können.\"\n",
    ")\n",
    "definition_starkregen_5 = textblock(\n",
    "    title = \"Datenreduktion\",\n",
    "    subtitle = \"\",\n",
    "    text = \"\"\"Weil wir enorm viele Daten hatten, haben wir mit unseren Fachexperten abgesprochen, dass wir eine reduzierte Anzahl an Ländern in unserer Analyse beachten. Wir haben also als erstes unsere Daten auf folgende 5 Länder reduziert (Geographische Lage unten im Bild):\n",
    "\\n•\tSchweden\n",
    "\\n•\tNorwegen\n",
    "\\n•\tItalien\n",
    "\\n•\tSpanien \n",
    "\\n•\tPortugal\n",
    "\"\"\")\n",
    "definition_starkregen_7 = textblock(\n",
    "    title = \"Z-Standardisierung\",\n",
    "    subtitle = \"\",\n",
    "    text = \"\"\"Damit wir einen universellen Grenzwert für unsere Regendaten erhalten, welcher örtlich und zeitlich abhängig ist, haben wir unsere Regensummen nach Grid-Unit und Monat gruppiert und innerhalb der Gruppierung eine z-Standardisierung druchgeführt. Mit der z-Standardisierung werden die Niederschlagswerte unter den einzelnen Grid-units und monatsweise vergleichbar untereinander. Somit können wir dann eine Magnitude berechnen (rechts im Bild gezeigt):\n",
    "\\nMagnitude= ∆(z)-Grenze(z)\n",
    "\\nWenn wir nun diese Magnituden pro Grid-Unit Jährlich aufsummieren, so erhalten wir pro Grid-Unit eine Jahresmagnitude (Beispielhaft unten im Bild gezeigt). Anschliessend haben wir den Mittelwert der Jahresmagnitude der Grid-Units welchem einem Land zugewiesen sind, als Jahresmagnitude / Land genommen.\n",
    "\"\"\"\n",
    ")\n",
    "definition_starkregen_8 = textblock(\n",
    "    title = \"\",\n",
    "    subtitle = \"\",\n",
    "    text = \"In dem folgenden Plot sind die Magnituden pro Jahr dargestellt, welche wir erhalten haben:\"\n",
    ")\n",
    "definition_starkregen_9 = textblock(\n",
    "    title = \"Eigentlicher Niederschlag\",\n",
    "    subtitle = \"\",\n",
    "    text = \"\"\" Bei unserer Definition und der Berechnung der Magnitude werden nur Z-Werte beachtet und die x% mit dem stärksten Ausschlag. Was dabei nicht beachtet wird, welchen eigentlichen Niederschlagswert vorliegt (in [mm/m3 day]). So kann es bei unserer Definition sein, dass wir einen Starkregen haben von nur z.B. 50 [mm/m3 day]). Durch diese Art von Starkregen wird die Landwirtschaft aber nicht negativ beeinflusst.\n",
    "Um dies etwas analysieren zu können haben wir drei Plots erstellt. Auf den Plots ist zu sehen, wie sich die definierte Grenze vom Starkregen auf die eigentlichen Niederschlagswerte, der zur Analyse verwendeten Daten auswirkt. Wir haben dabei die folgenden drei Kennwerte überprüft:\n",
    "\\n•\tMaximaler Niederschlag\n",
    "\\n•\tMinimaler Niederschlag\n",
    "\\n•\tDurchschnittlicher Niederschlag\n",
    "\\nWas in dem Plot zu erkennen ist, dass ab einer gewissen Grenze(z) der Maximale Niederschlag in machen Ländern sinkt. Dies schein zu Beginn ein Fehler zu sein, jedoch wird dies verursacht dadurch, dass wir die Niederschlagsmengen pro Monat separat über alle Jahre hinweg z-standardisieren. Somit wenn es in diesen Monaten immer speziell stark regnet, dann wird der z-Wert verhältnismässig nicht so gross sein und bei steigender Grenze(z) fallen diese Werte schneller weg. \n",
    "\\nAn dieser Stelle möchten wir nochmals darauf hinweisen, dass die Plots interaktiv sind. Wir laden dich dazu ein, dein eigenes Land weiter zu analysieren und es evtl. auch mit anderen Ländern zu vergleichen.\"\"\"\n",
    ")\n",
    "\n",
    "\n",
    "\n",
    "card4 = pn.Card(    definition_starkregen_1,\n",
    "                    definition_starkregen_2,\n",
    "                    definition_starkregen_3,\n",
    "                    pn.pane.PNG('./plots/ds_1.png', sizing_mode='scale_width', max_width = 500, height=300),\n",
    "                    definition_starkregen_4,\n",
    "                    definition_starkregen_5,\n",
    "                    pn.pane.PNG('./plots/ds_2.png', sizing_mode='scale_width', max_width = 400, height=300),\n",
    "                    definition_starkregen_7,\n",
    "                    pn.pane.PNG('./plots/ds_4.png', sizing_mode='scale_width', max_width = 200, height=300),\n",
    "                    definition_starkregen_8,\n",
    "                    plot12.panel(width=width),\n",
    "                    definition_starkregen_9,\n",
    "                    plot3.panel(width=width),\n",
    "                    plot2.panel(width=width),\n",
    "                    plot1.panel(width=width), \n",
    "                    title='Definition Starkregen', \n",
    "                    background='WhiteSmoke', \n",
    "                    sizing_mode='stretch_both', \n",
    "                    min_width = 900, margin=5)\n",
    "card4"
   ]
  },
  {
   "cell_type": "markdown",
   "id": "dc3b089d",
   "metadata": {},
   "source": [
    "#### Korrelationsanalyse"
   ]
  },
  {
   "cell_type": "code",
   "execution_count": 37,
   "id": "da05fae1",
   "metadata": {},
   "outputs": [
    {
     "data": {
      "application/vnd.jupyter.widget-view+json": {
       "model_id": "9b85e345fb51474ba6e95436a28bf429",
       "version_major": 2,
       "version_minor": 0
      },
      "text/plain": [
       "BokehModel(combine_events=True, render_bundle={'docs_json': {'225f41fd-5265-4c8f-824f-d9fb06ee1056': {'defs': …"
      ]
     },
     "metadata": {},
     "output_type": "display_data"
    },
    {
     "data": {
      "text/html": [
       "<div style=\"display: none\"></div>"
      ],
      "text/plain": [
       "Card(background='WhiteSmoke', min_width=900, sizing_mode='stretch_both', title='Korrelationsanalyse')\n",
       "    [0] Markdown(str)\n",
       "    [1] Markdown(str)\n",
       "    [2] Markdown(str)\n",
       "    [3] Markdown(str)\n",
       "    [4] Markdown(str)\n",
       "    [5] Markdown(str)\n",
       "    [6] ParamFunction(function, width=900)\n",
       "    [7] Markdown(str)\n",
       "    [8] ParamFunction(function, width=900)\n",
       "    [9] Markdown(str)\n",
       "    [10] ParamFunction(function, width=900)\n",
       "    [11] ParamFunction(function, width=900)"
      ]
     },
     "execution_count": 37,
     "metadata": {},
     "output_type": "execute_result"
    }
   ],
   "source": [
    "# Korrelationsanalyse\n",
    "korrelationsanalyse_1 = textblock(\n",
    "    text = \"Um die Extremereignisse auf Zusammenhang zu überprüfen haben wir die Starkregenmagnitude pro Jahr und Land, auf Korrelation mit der Landwirtschafts-Produktion überprüft.\"\n",
    ")\n",
    "korrelationsanalyse_2 = textblock(\n",
    "    title = \"Z-Standardisierung Landwirtschaft\",\n",
    "    text = \"Für die Zusammenhangsanalyse haben wir den Detrend (Residuum Trend/Istwert) der Landwirtschafts-Produktion zusätzlich noch z-standardisiert. Dies aus dem Grund, dass so die einzelnen Länder untereinander vergleichbar werden. So konnten wir nicht nur einzelne Länder auf Korrelation mit Extremregen überprüfen, sondern auch eine Korrelationsanalyse mit allen Ländern durchführen. Dies ist in unserem Fall sehr interessant, weil wir nur eine Zeitspanne von 10 Jahren untersucht haben. Somit können wir anstelle der 10 Datenpunkte für ein Land, alle 50 Datenpunkte für alle Länder auf Korrelation überprüfen.\"\n",
    ")\n",
    "korrelationsanalyse_3 = textblock(\n",
    "    title = \"Hypothesen\",\n",
    "    text = \"\"\"Wir hatten folgende Hypothesen aufgestellt:\n",
    "\\n•\tH1: Es gibt einen irgendwie gearteten Zusammenhang zwischen den Extremereignissen (gem. unserer Definition) und der Landwirtschaftsproduktion (z-standardisierte Residuen)\n",
    "\\n•\tH0: Es gibt keinen Zusammenhang zwischen den Extremereignissen (gem. unserer Definition) und der Landwirtschaftsproduktion (z-standardisierte Residuen)\n",
    "\\nUnsere Hypothese haben wir ungerichtet formuliert, weil wir nicht genügend Daten/Vorwissen hatten, um gerichtet zu testen. Als Signifikanz Niveau haben wir 5% gewählt, da dies ein übliches Signifikanz Niveau in der Statistik ist.\n",
    "\"\"\"\n",
    ")\n",
    "korrelationsanalyse_4 = textblock(\n",
    "    title = \"Ergebnis\",\n",
    "    text = \"Wir haben in einem Bereich von 2 bis 10 (80-Einzelwerte) für die Grenze(z) für Starkregen auf Korrelation mit der Landwirtschaftsproduktion getestet und auf ein Signifikanzniveau von 5% überprüft. Wir konnten keine statistisch Signifikate Korrelation zwischen den beiden Variablen finden.\"\n",
    ")\n",
    "korrelationsanalyse_5 = textblock(\n",
    "    title = \"Einfluss Grenze(z) auf Korrelation\",\n",
    "    text = \"Wir haben zusätzlich noch den Einfluss von unserer Grenze(z) für den Starkregen auf unsere Analyse die Korrelation untersucht. Dazu haben wir die unterschiedlichen Plots unten erstellt. Auf den Plots ist jeweils der Einfluss der Grenze(z) auf verschiedene Grenzwerte dargestellt:\"\n",
    ")\n",
    "korrelationsanalyse_6 = textblock(\n",
    "    subtitle=\"Plot 1\",\n",
    "    text = \"Einfluss auf die Korrelation zwischen Starkregen und Landwirtschaftsertrag. (Negative Korrelation bedeutet, dass sich Starkregen negativ auf Landwirtschaftserträge auswirkt). Es ist zu erkennen, dass die Korrelation bis ca. einem Grenzwert von 4 stetig negativer wird und anschliessend zu rauschen beginnt. Hierbei ist es wichtig anzumerken, dass keines der Korrelationen statistisch signifikat ist. Dies ist auf unsere geringe Stichprobengrösse von 50 Datenpunkten zurückzuführen.\"\n",
    ")\n",
    "korrelationsanalyse_8 = textblock(\n",
    "    subtitle=\"Plot 2\",\n",
    "    text = \"Nochmals der Plot zum Einfluss der Grenze(z) auf den durchschnittlichen Regenfall. Interessant dabei ist, dass wenn unter den Einstellungen links in der Sidebar, alle Länder eingeblendet werden sieht man, dass Aufgrund der Monatlichen z-Standardisierung der Durchschnittliche Starkregenfall ab einem Grenzwert von ca. 5 bei manchen Ländern abnimmt. Und ab einem Grenzwert von ca. 7.5 nimmt dieser stark ab. Die Korrelation scheint im ähnlichem Ausmass zu schwingen.\"\n",
    ")\n",
    "korrelationsanalyse_9 = textblock(\n",
    "    subtitle=\"Plot 3 & 4\",\n",
    "    text = \"In diesen Plots ist dargestellt, wie sich die Grenze(z) auf den % Anteil der Regenfälle und der eigentlichen Anzahl der Regenfälle auswirkt. Man kann erkennen, dass der % Anteil bei allen Ländern ca. gleich verläuft, dies ist darauf zurückzuführen, dass wir die Regenfälle pro Land einzeln z-Standardisiert haben. Die eigentlichen Anzahlen sind pro Land jedoch stark unterschiedlich. Die Stetige Abnahme der Anzahl Datenpunkte, welche zur Analyse verwendet werden, tragen direkt zum Rauschen bei der Korrelation bei. Dies ist am Beispiel Portugal klar ersichtlich, da Portugal bei der Korrelation am meisten Rauschen hat und auch am wenigsten eigentliche Regenfälle.\"\n",
    ")\n",
    "\n",
    "card5 = pn.Card(    korrelationsanalyse_1,\n",
    "                    korrelationsanalyse_2,\n",
    "                    korrelationsanalyse_3,\n",
    "                    korrelationsanalyse_4,\n",
    "                    korrelationsanalyse_5,\n",
    "                    korrelationsanalyse_6,\n",
    "                    plot6.panel(width=width),\n",
    "                    korrelationsanalyse_8,\n",
    "                    plot1.panel(width=width),\n",
    "                    korrelationsanalyse_9,\n",
    "                    plot4.panel(width=width),\n",
    "                    plot5.panel(width=width),\n",
    "                    title='Korrelationsanalyse', \n",
    "                    background='WhiteSmoke', \n",
    "                    sizing_mode='stretch_both', \n",
    "                    min_width = 900, \n",
    "                    margin=5)\n",
    "card5"
   ]
  },
  {
   "cell_type": "markdown",
   "id": "477aafbf",
   "metadata": {},
   "source": [
    "#### Fazit"
   ]
  },
  {
   "cell_type": "code",
   "execution_count": 38,
   "id": "d03142ac",
   "metadata": {},
   "outputs": [
    {
     "data": {
      "application/vnd.jupyter.widget-view+json": {
       "model_id": "a983c86f01db4182850547e455de4c58",
       "version_major": 2,
       "version_minor": 0
      },
      "text/plain": [
       "BokehModel(combine_events=True, render_bundle={'docs_json': {'d8a0d462-5c3a-439e-9b58-2c7251a4577a': {'defs': …"
      ]
     },
     "metadata": {},
     "output_type": "display_data"
    },
    {
     "data": {
      "text/html": [
       "<div style=\"display: none\"></div>"
      ],
      "text/plain": [
       "Card(background='WhiteSmoke', min_width=900, sizing_mode='stretch_both', title='Fazit')\n",
       "    [0] Markdown(str)"
      ]
     },
     "execution_count": 38,
     "metadata": {},
     "output_type": "execute_result"
    }
   ],
   "source": [
    "# Folgen von Starkregen auf den Ackerbau\n",
    "fazit_0 = textblock(\n",
    "    title = \"\",\n",
    "    subtitle = \"\",\n",
    "    text = \"\"\"Schlussendlich konnten wir keine statistisch relevante Korrelation finden. Jedoch könnten bei einer weiteren Analyse mehr Datenpunkte verwendet werden, somit wäre die Stichprobengrösse grösser und es würden vermutlich statistisch signifikante Resultate entstehen. Generell haben wir aber in unserer Analyse auch festellen müssen, dass eine Analyse auf unsere Art und weise vermutlich nicht der Ideale Weg ist, um einen Zusammenhang zwischen Starkregen und Landwirftschaftserträgen aufzuzeigen. Es wäre vermutlich besser über Europa hinweg verteilt spezifische Bauern genauer zu betrachten. So wären bessere Daten vorhanden und der Zusammenhang könnte genauer untersucht werden.\n",
    "\"\"\")\n",
    "\n",
    "\n",
    "card6 = pn.Card(    fazit_0,\n",
    "                    title='Fazit', \n",
    "                    background='WhiteSmoke', \n",
    "                    sizing_mode='stretch_both', \n",
    "                    min_width = 900, margin=5)\n",
    "card6"
   ]
  },
  {
   "cell_type": "markdown",
   "id": "de7dc06c",
   "metadata": {},
   "source": [
    "# Dashboard erstellen"
   ]
  },
  {
   "cell_type": "code",
   "execution_count": 39,
   "id": "53173faa",
   "metadata": {},
   "outputs": [
    {
     "name": "stdout",
     "output_type": "stream",
     "text": [
      "Launching server at http://localhost:54522\n"
     ]
    }
   ],
   "source": [
    "#Layout using Template\n",
    "width = 900\n",
    "small_width = 650\n",
    "margin = 0\n",
    "template = pn.template.FastListTemplate(\n",
    "    title='Klimadaten Dashboard: Starkregen mit den Auswirkungen auf den Landwirtschaftsertrag',\n",
    "    sidebar_width = 360,\n",
    "    sidebar=[   pn.pane.Markdown(\"## Einstellungen\"),\n",
    "                pn.pane.Markdown(\"Die Datastory ist mit Plots angereichert, auf welchen wir den Leser einladen die einzelnen interaktiven Plots zu explorieren. Mit dem Widget unten können Sie die Länder auswählen, welche dargestellt werden sollen. Es ist möglich mehrere Länder zeitgleich anzuzeigen.\"),\n",
    "                multi_country_selector,\n",
    "                pn.pane.Markdown(\"\\n\\n## Referenzdaten\"),\n",
    "                pn.pane.Markdown(\"In der folgenden Landkarte sind die wichtigsten Referenzwerte zur Datastory dargestellt: 'Berechnete Magnitude' und 'z-stardardisierteer detrend'. Der Plot ist interaktiv und kann mit den folgenden Widgets gefiltert werden\"),       \n",
    "                pn.Column(grenze_slider),  \n",
    "                pn.Column(radio_group),\n",
    "                pn.pane.PNG('./plots/europe_png.png', sizing_mode='scale_width', max_width = 325, height=250)],\n",
    "    main=[  pn.Row(pn.Column(   \"# Datastory\",\n",
    "                                \"In folgenden Abschnitten werden wir euch versuchen unsere Challengen näherzubringen. Wir werden disskutieren, wie wir den Einfluss der Extremniederschläge auf die Landwirftschaftsdaten untersucht haben. Die Datastory ist mit Plots angereichert, auf welchen wir den Leser einladen die einzelnen interaktiven Plots zu explorieren. Links in der Sidebar unter Einstellungen können Sie die Länder auswählen, welche dargestellt werden sollen. Es ist möglich mehrere Länder zeitgleich anzuzeigen.\",\n",
    "                                card1,\n",
    "                                card4,\n",
    "                                card3,\n",
    "                                card5,\n",
    "                                card6)),\n",
    "            pn.Row( pn.Column(  \"# Dashboard\",\n",
    "                                pn.Card(\n",
    "                                \"### Einstellungen Dashboard:\",\n",
    "                                multi_country_selector2,\n",
    "                                start_year_slider,\n",
    "                                end_year_slider,    \n",
    "                                rain_plot.panel(sizing_mode = 'stretch_width', min_width = 900),    \n",
    "                                agriculture_plot.panel(sizing_mode = 'stretch_width', min_width = 900),    \n",
    "                                title = \"Dashboard\",\n",
    "                                background='WhiteSmoke', \n",
    "                                sizing_mode='stretch_both', \n",
    "                                min_width = 900, \n",
    "                                margin=5)))])\n",
    "\n",
    "# template.show()\n",
    "template.show();"
   ]
  }
 ],
 "metadata": {
  "kernelspec": {
   "display_name": "Python 3",
   "language": "python",
   "name": "python3"
  },
  "language_info": {
   "codemirror_mode": {
    "name": "ipython",
    "version": 3
   },
   "file_extension": ".py",
   "mimetype": "text/x-python",
   "name": "python",
   "nbconvert_exporter": "python",
   "pygments_lexer": "ipython3",
   "version": "3.9.16"
  },
  "vscode": {
   "interpreter": {
    "hash": "a665b5d41d17b532ea9890333293a1b812fa0b73c9c25c950b3cedf1bebd0438"
   }
  }
 },
 "nbformat": 4,
 "nbformat_minor": 5
}
